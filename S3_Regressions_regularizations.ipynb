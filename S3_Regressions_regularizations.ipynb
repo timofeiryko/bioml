{
  "cells": [
    {
      "cell_type": "markdown",
      "id": "bb9cd518-2ed8-495f-bea5-6c1c701708c6",
      "metadata": {
        "id": "bb9cd518-2ed8-495f-bea5-6c1c701708c6"
      },
      "source": [
        "# Машинное обучение в биологии\n",
        "\n",
        "### Семинар 3: Основные понятия и простейшие модели машинного обучения\n",
        "\n",
        "#### Учимся на геномных эмбеддингах. Работа с веществами в Python. Предсказание параметров веществ по их свойствам."
      ]
    },
    {
      "cell_type": "code",
      "execution_count": 8,
      "id": "654ff1e0-8eac-452c-a57e-66501bb1a884",
      "metadata": {
        "id": "654ff1e0-8eac-452c-a57e-66501bb1a884"
      },
      "outputs": [],
      "source": [
        "import numpy as np\n",
        "import pandas as pd\n",
        "\n",
        "import matplotlib.pyplot as plt\n",
        "import seaborn as sns\n",
        "\n",
        "from sklearn.model_selection import train_test_split\n",
        "from sklearn.preprocessing import StandardScaler\n",
        "\n",
        "sns.set()\n",
        "sns.set_style(\"whitegrid\")"
      ]
    },
    {
      "cell_type": "code",
      "execution_count": 21,
      "id": "4e938b0c",
      "metadata": {},
      "outputs": [],
      "source": [
        "SEED = 777"
      ]
    },
    {
      "cell_type": "markdown",
      "id": "89d5e03d-32f0-48ab-9974-1bc2327f6ede",
      "metadata": {
        "id": "89d5e03d-32f0-48ab-9974-1bc2327f6ede"
      },
      "source": [
        "### Задача 1: Предсказание растворимости белков"
      ]
    },
    {
      "cell_type": "markdown",
      "id": "82a27b22-3e1c-484a-bd21-c231de7bb52a",
      "metadata": {
        "id": "82a27b22-3e1c-484a-bd21-c231de7bb52a"
      },
      "source": [
        "В этой задаче предлагается произвести предсказание растворимости различных белков, используя их физико-химические свойства и белковый состав."
      ]
    },
    {
      "cell_type": "code",
      "execution_count": 2,
      "id": "S22zU4DvNk6h",
      "metadata": {
        "colab": {
          "base_uri": "https://localhost:8080/"
        },
        "id": "S22zU4DvNk6h",
        "outputId": "6b75c29b-3617-4fcc-c49d-5bcba23fe231"
      },
      "outputs": [
        {
          "name": "stdout",
          "output_type": "stream",
          "text": [
            "--2022-09-29 17:30:38--  https://data.bioml.ru/htdocs/courses/bioml/classic_ml/supervised/regression/data/solubility_data.csv\n",
            "Resolving data.bioml.ru (data.bioml.ru)... 178.62.218.34\n",
            "Connecting to data.bioml.ru (data.bioml.ru)|178.62.218.34|:443... connected.\n",
            "HTTP request sent, awaiting response... 200 OK\n",
            "Length: 184108 (180K) [text/csv]\n",
            "Saving to: ‘solubility_data.csv’\n",
            "\n",
            "solubility_data.csv 100%[===================>] 179.79K   706KB/s    in 0.3s    \n",
            "\n",
            "2022-09-29 17:30:39 (706 KB/s) - ‘solubility_data.csv’ saved [184108/184108]\n",
            "\n"
          ]
        }
      ],
      "source": [
        "!wget https://data.bioml.ru/htdocs/courses/bioml/classic_ml/supervised/regression/data/solubility_data.csv"
      ]
    },
    {
      "cell_type": "markdown",
      "id": "22d78c75-e3bf-435c-8b16-7cf21ff153f2",
      "metadata": {
        "id": "22d78c75-e3bf-435c-8b16-7cf21ff153f2"
      },
      "source": [
        "Датасет `solubility_data.csv` загружен за вас, определены `X` и `y`."
      ]
    },
    {
      "cell_type": "code",
      "execution_count": 3,
      "id": "9da660ce-7081-41ca-a067-c60c625b7f4b",
      "metadata": {
        "colab": {
          "base_uri": "https://localhost:8080/",
          "height": 268
        },
        "id": "9da660ce-7081-41ca-a067-c60c625b7f4b",
        "outputId": "7fbee3e3-71b3-4d54-8ded-6f7322febd49"
      },
      "outputs": [
        {
          "data": {
            "text/html": [
              "<div>\n",
              "<style scoped>\n",
              "    .dataframe tbody tr th:only-of-type {\n",
              "        vertical-align: middle;\n",
              "    }\n",
              "\n",
              "    .dataframe tbody tr th {\n",
              "        vertical-align: top;\n",
              "    }\n",
              "\n",
              "    .dataframe thead th {\n",
              "        text-align: right;\n",
              "    }\n",
              "</style>\n",
              "<table border=\"1\" class=\"dataframe\">\n",
              "  <thead>\n",
              "    <tr style=\"text-align: right;\">\n",
              "      <th></th>\n",
              "      <th>solubility</th>\n",
              "      <th>protein_sasa</th>\n",
              "      <th>length</th>\n",
              "      <th>molecular_weight</th>\n",
              "      <th>instability_index</th>\n",
              "      <th>isoelectric_point</th>\n",
              "      <th>helix_fraction</th>\n",
              "      <th>turn_fraction</th>\n",
              "      <th>sheet_fraction</th>\n",
              "      <th>reduced_molar_extinction_coefficient</th>\n",
              "      <th>...</th>\n",
              "      <th>A2</th>\n",
              "      <th>B2</th>\n",
              "      <th>C2</th>\n",
              "      <th>A3</th>\n",
              "      <th>B3</th>\n",
              "      <th>C3</th>\n",
              "      <th>A4</th>\n",
              "      <th>B4</th>\n",
              "      <th>C4</th>\n",
              "      <th>TM</th>\n",
              "    </tr>\n",
              "    <tr>\n",
              "      <th>uniprot_id</th>\n",
              "      <th></th>\n",
              "      <th></th>\n",
              "      <th></th>\n",
              "      <th></th>\n",
              "      <th></th>\n",
              "      <th></th>\n",
              "      <th></th>\n",
              "      <th></th>\n",
              "      <th></th>\n",
              "      <th></th>\n",
              "      <th></th>\n",
              "      <th></th>\n",
              "      <th></th>\n",
              "      <th></th>\n",
              "      <th></th>\n",
              "      <th></th>\n",
              "      <th></th>\n",
              "      <th></th>\n",
              "      <th></th>\n",
              "      <th></th>\n",
              "      <th></th>\n",
              "    </tr>\n",
              "  </thead>\n",
              "  <tbody>\n",
              "    <tr>\n",
              "      <th>P32643</th>\n",
              "      <td>78</td>\n",
              "      <td>14538.357720</td>\n",
              "      <td>293</td>\n",
              "      <td>33936.5675</td>\n",
              "      <td>40.259795</td>\n",
              "      <td>5.866034</td>\n",
              "      <td>0.310580</td>\n",
              "      <td>0.208191</td>\n",
              "      <td>0.187713</td>\n",
              "      <td>59360</td>\n",
              "      <td>...</td>\n",
              "      <td>0</td>\n",
              "      <td>0.0</td>\n",
              "      <td>0.0</td>\n",
              "      <td>0</td>\n",
              "      <td>0.0</td>\n",
              "      <td>0.0</td>\n",
              "      <td>0</td>\n",
              "      <td>0.0</td>\n",
              "      <td>0</td>\n",
              "      <td>0</td>\n",
              "    </tr>\n",
              "    <tr>\n",
              "      <th>Q46829</th>\n",
              "      <td>70</td>\n",
              "      <td>19283.018950</td>\n",
              "      <td>470</td>\n",
              "      <td>54516.1438</td>\n",
              "      <td>34.295149</td>\n",
              "      <td>5.655559</td>\n",
              "      <td>0.329787</td>\n",
              "      <td>0.214894</td>\n",
              "      <td>0.225532</td>\n",
              "      <td>111160</td>\n",
              "      <td>...</td>\n",
              "      <td>279</td>\n",
              "      <td>1.1</td>\n",
              "      <td>92.5</td>\n",
              "      <td>0</td>\n",
              "      <td>0.0</td>\n",
              "      <td>0.0</td>\n",
              "      <td>0</td>\n",
              "      <td>0.0</td>\n",
              "      <td>0</td>\n",
              "      <td>0</td>\n",
              "    </tr>\n",
              "    <tr>\n",
              "      <th>P65556</th>\n",
              "      <td>19</td>\n",
              "      <td>8407.794332</td>\n",
              "      <td>157</td>\n",
              "      <td>17692.5095</td>\n",
              "      <td>54.505159</td>\n",
              "      <td>4.679577</td>\n",
              "      <td>0.286624</td>\n",
              "      <td>0.165605</td>\n",
              "      <td>0.312102</td>\n",
              "      <td>24980</td>\n",
              "      <td>...</td>\n",
              "      <td>0</td>\n",
              "      <td>0.0</td>\n",
              "      <td>0.0</td>\n",
              "      <td>0</td>\n",
              "      <td>0.0</td>\n",
              "      <td>0.0</td>\n",
              "      <td>0</td>\n",
              "      <td>0.0</td>\n",
              "      <td>0</td>\n",
              "      <td>0</td>\n",
              "    </tr>\n",
              "  </tbody>\n",
              "</table>\n",
              "<p>3 rows × 46 columns</p>\n",
              "</div>"
            ],
            "text/plain": [
              "            solubility  protein_sasa  length  molecular_weight  \\\n",
              "uniprot_id                                                       \n",
              "P32643              78  14538.357720     293        33936.5675   \n",
              "Q46829              70  19283.018950     470        54516.1438   \n",
              "P65556              19   8407.794332     157        17692.5095   \n",
              "\n",
              "            instability_index  isoelectric_point  helix_fraction  \\\n",
              "uniprot_id                                                         \n",
              "P32643              40.259795           5.866034        0.310580   \n",
              "Q46829              34.295149           5.655559        0.329787   \n",
              "P65556              54.505159           4.679577        0.286624   \n",
              "\n",
              "            turn_fraction  sheet_fraction  \\\n",
              "uniprot_id                                  \n",
              "P32643           0.208191        0.187713   \n",
              "Q46829           0.214894        0.225532   \n",
              "P65556           0.165605        0.312102   \n",
              "\n",
              "            reduced_molar_extinction_coefficient  ...   A2   B2    C2  A3  \\\n",
              "uniprot_id                                        ...                       \n",
              "P32643                                     59360  ...    0  0.0   0.0   0   \n",
              "Q46829                                    111160  ...  279  1.1  92.5   0   \n",
              "P65556                                     24980  ...    0  0.0   0.0   0   \n",
              "\n",
              "             B3   C3  A4   B4  C4  TM  \n",
              "uniprot_id                             \n",
              "P32643      0.0  0.0   0  0.0   0   0  \n",
              "Q46829      0.0  0.0   0  0.0   0   0  \n",
              "P65556      0.0  0.0   0  0.0   0   0  \n",
              "\n",
              "[3 rows x 46 columns]"
            ]
          },
          "execution_count": 3,
          "metadata": {},
          "output_type": "execute_result"
        }
      ],
      "source": [
        "sol = pd.read_csv(\"./solubility_data.csv\", header=0, index_col=0)\n",
        "sol.head(3)"
      ]
    },
    {
      "cell_type": "code",
      "execution_count": 6,
      "id": "26dd218d-46fe-4e82-b7ac-eceb40f2042d",
      "metadata": {
        "id": "26dd218d-46fe-4e82-b7ac-eceb40f2042d"
      },
      "outputs": [],
      "source": [
        "X = sol.iloc[:,1:]\n",
        "y = sol[\"solubility\"]"
      ]
    },
    {
      "cell_type": "markdown",
      "id": "a81b5a30-1c29-43de-b8e1-9604c77da775",
      "metadata": {
        "id": "a81b5a30-1c29-43de-b8e1-9604c77da775"
      },
      "source": [
        "**Разбейте X и y на тренировочную и тестовую выборки**, как в лекции. Соотношение train/test поставьте равным 4:1.\\\n",
        "*Подсказка*: воспользуйтесь функцией `train_test_split`."
      ]
    },
    {
      "cell_type": "code",
      "execution_count": 7,
      "id": "eb40457f-b8b5-447d-8497-efe3b0671b71",
      "metadata": {
        "id": "eb40457f-b8b5-447d-8497-efe3b0671b71"
      },
      "outputs": [],
      "source": [
        "X_train, X_test, y_train, y_test = train_test_split(X, y, test_size=0.2, random_state=42)"
      ]
    },
    {
      "cell_type": "markdown",
      "id": "29b75ec0-447f-4b6c-bb9f-31fa67acf73f",
      "metadata": {
        "id": "29b75ec0-447f-4b6c-bb9f-31fa67acf73f"
      },
      "source": [
        "**Осуществите стандартизацию признаков в выборке**."
      ]
    },
    {
      "cell_type": "code",
      "execution_count": 9,
      "id": "0462e61c-0fba-442b-be4d-ed4eeefc30db",
      "metadata": {
        "id": "0462e61c-0fba-442b-be4d-ed4eeefc30db"
      },
      "outputs": [],
      "source": [
        "scaler = StandardScaler()\n",
        "scaler.fit(X_train)\n",
        "\n",
        "X_train = scaler.transform(X_train)\n",
        "X_test = scaler.transform(X_test)"
      ]
    },
    {
      "cell_type": "markdown",
      "id": "0c151708-47a0-4437-a0d9-596f9fe6d726",
      "metadata": {
        "id": "0c151708-47a0-4437-a0d9-596f9fe6d726"
      },
      "source": [
        "**Импортируйте модель регрессии k-NN и обучите ее (`model.fit`)**.\\\n",
        "*Вопрос*: на какой части выборки происходит обучение: тренировочной или тестовой?"
      ]
    },
    {
      "cell_type": "code",
      "execution_count": 10,
      "id": "f56a89e5-4a31-4ccb-ba4f-c61a467b84a2",
      "metadata": {
        "id": "f56a89e5-4a31-4ccb-ba4f-c61a467b84a2"
      },
      "outputs": [
        {
          "data": {
            "text/html": [
              "<style>#sk-container-id-1 {color: black;background-color: white;}#sk-container-id-1 pre{padding: 0;}#sk-container-id-1 div.sk-toggleable {background-color: white;}#sk-container-id-1 label.sk-toggleable__label {cursor: pointer;display: block;width: 100%;margin-bottom: 0;padding: 0.3em;box-sizing: border-box;text-align: center;}#sk-container-id-1 label.sk-toggleable__label-arrow:before {content: \"▸\";float: left;margin-right: 0.25em;color: #696969;}#sk-container-id-1 label.sk-toggleable__label-arrow:hover:before {color: black;}#sk-container-id-1 div.sk-estimator:hover label.sk-toggleable__label-arrow:before {color: black;}#sk-container-id-1 div.sk-toggleable__content {max-height: 0;max-width: 0;overflow: hidden;text-align: left;background-color: #f0f8ff;}#sk-container-id-1 div.sk-toggleable__content pre {margin: 0.2em;color: black;border-radius: 0.25em;background-color: #f0f8ff;}#sk-container-id-1 input.sk-toggleable__control:checked~div.sk-toggleable__content {max-height: 200px;max-width: 100%;overflow: auto;}#sk-container-id-1 input.sk-toggleable__control:checked~label.sk-toggleable__label-arrow:before {content: \"▾\";}#sk-container-id-1 div.sk-estimator input.sk-toggleable__control:checked~label.sk-toggleable__label {background-color: #d4ebff;}#sk-container-id-1 div.sk-label input.sk-toggleable__control:checked~label.sk-toggleable__label {background-color: #d4ebff;}#sk-container-id-1 input.sk-hidden--visually {border: 0;clip: rect(1px 1px 1px 1px);clip: rect(1px, 1px, 1px, 1px);height: 1px;margin: -1px;overflow: hidden;padding: 0;position: absolute;width: 1px;}#sk-container-id-1 div.sk-estimator {font-family: monospace;background-color: #f0f8ff;border: 1px dotted black;border-radius: 0.25em;box-sizing: border-box;margin-bottom: 0.5em;}#sk-container-id-1 div.sk-estimator:hover {background-color: #d4ebff;}#sk-container-id-1 div.sk-parallel-item::after {content: \"\";width: 100%;border-bottom: 1px solid gray;flex-grow: 1;}#sk-container-id-1 div.sk-label:hover label.sk-toggleable__label {background-color: #d4ebff;}#sk-container-id-1 div.sk-serial::before {content: \"\";position: absolute;border-left: 1px solid gray;box-sizing: border-box;top: 0;bottom: 0;left: 50%;z-index: 0;}#sk-container-id-1 div.sk-serial {display: flex;flex-direction: column;align-items: center;background-color: white;padding-right: 0.2em;padding-left: 0.2em;position: relative;}#sk-container-id-1 div.sk-item {position: relative;z-index: 1;}#sk-container-id-1 div.sk-parallel {display: flex;align-items: stretch;justify-content: center;background-color: white;position: relative;}#sk-container-id-1 div.sk-item::before, #sk-container-id-1 div.sk-parallel-item::before {content: \"\";position: absolute;border-left: 1px solid gray;box-sizing: border-box;top: 0;bottom: 0;left: 50%;z-index: -1;}#sk-container-id-1 div.sk-parallel-item {display: flex;flex-direction: column;z-index: 1;position: relative;background-color: white;}#sk-container-id-1 div.sk-parallel-item:first-child::after {align-self: flex-end;width: 50%;}#sk-container-id-1 div.sk-parallel-item:last-child::after {align-self: flex-start;width: 50%;}#sk-container-id-1 div.sk-parallel-item:only-child::after {width: 0;}#sk-container-id-1 div.sk-dashed-wrapped {border: 1px dashed gray;margin: 0 0.4em 0.5em 0.4em;box-sizing: border-box;padding-bottom: 0.4em;background-color: white;}#sk-container-id-1 div.sk-label label {font-family: monospace;font-weight: bold;display: inline-block;line-height: 1.2em;}#sk-container-id-1 div.sk-label-container {text-align: center;}#sk-container-id-1 div.sk-container {/* jupyter's `normalize.less` sets `[hidden] { display: none; }` but bootstrap.min.css set `[hidden] { display: none !important; }` so we also need the `!important` here to be able to override the default hidden behavior on the sphinx rendered scikit-learn.org. See: https://github.com/scikit-learn/scikit-learn/issues/21755 */display: inline-block !important;position: relative;}#sk-container-id-1 div.sk-text-repr-fallback {display: none;}</style><div id=\"sk-container-id-1\" class=\"sk-top-container\"><div class=\"sk-text-repr-fallback\"><pre>KNeighborsRegressor()</pre><b>In a Jupyter environment, please rerun this cell to show the HTML representation or trust the notebook. <br />On GitHub, the HTML representation is unable to render, please try loading this page with nbviewer.org.</b></div><div class=\"sk-container\" hidden><div class=\"sk-item\"><div class=\"sk-estimator sk-toggleable\"><input class=\"sk-toggleable__control sk-hidden--visually\" id=\"sk-estimator-id-1\" type=\"checkbox\" checked><label for=\"sk-estimator-id-1\" class=\"sk-toggleable__label sk-toggleable__label-arrow\">KNeighborsRegressor</label><div class=\"sk-toggleable__content\"><pre>KNeighborsRegressor()</pre></div></div></div></div></div>"
            ],
            "text/plain": [
              "KNeighborsRegressor()"
            ]
          },
          "execution_count": 10,
          "metadata": {},
          "output_type": "execute_result"
        }
      ],
      "source": [
        "# import k-nn regression\n",
        "from sklearn.neighbors import KNeighborsRegressor\n",
        "\n",
        "model = KNeighborsRegressor(n_neighbors=5)\n",
        "model.fit(X_train, y_train)"
      ]
    },
    {
      "cell_type": "markdown",
      "id": "24df12c6",
      "metadata": {},
      "source": [
        "Обучение происходит на тренировочной выборке."
      ]
    },
    {
      "cell_type": "markdown",
      "id": "381dbe6d-1366-4ed4-b8f9-81379d7506a0",
      "metadata": {
        "id": "381dbe6d-1366-4ed4-b8f9-81379d7506a0"
      },
      "source": [
        "**Получите предсказание на оставшейся выборке**. Оцените его качество метриками RMSE, MAE."
      ]
    },
    {
      "cell_type": "code",
      "execution_count": 11,
      "id": "4a6dd01e-44ec-470c-8c69-63201384dfd8",
      "metadata": {
        "id": "4a6dd01e-44ec-470c-8c69-63201384dfd8"
      },
      "outputs": [
        {
          "name": "stdout",
          "output_type": "stream",
          "text": [
            "MSE: train = 590.141, test = 810.694\n",
            "MAE: train = 19.934, test = 24.684\n"
          ]
        }
      ],
      "source": [
        "y_pred_train = model.predict(X_train)\n",
        "y_pred_test = model.predict(X_test)\n",
        "\n",
        "from sklearn.metrics import mean_squared_error, mean_absolute_error\n",
        "\n",
        "train_mse = mean_squared_error(y_train, y_pred_train)\n",
        "test_mse = mean_squared_error(y_test, y_pred_test)\n",
        "train_mae = mean_absolute_error(y_train, y_pred_train)\n",
        "test_mae = mean_absolute_error(y_test, y_pred_test)\n",
        "\n",
        "print(f'MSE: train = {train_mse:.3f}, test = {test_mse:.3f}')\n",
        "print(f'MAE: train = {train_mae:.3f}, test = {test_mae:.3f}')"
      ]
    },
    {
      "cell_type": "markdown",
      "id": "pOghauDtN80a",
      "metadata": {
        "id": "pOghauDtN80a"
      },
      "source": [
        "**Постройте диаграмму рассеяния** предсказываемого значения в зависимости от истинного."
      ]
    },
    {
      "cell_type": "code",
      "execution_count": 12,
      "id": "1QAzwvAzKe5x",
      "metadata": {
        "id": "1QAzwvAzKe5x"
      },
      "outputs": [],
      "source": [
        "def plot_predicted_actual(Y_test, name, model=None, X_test=None, Y_pred=None):\n",
        "\n",
        "    if (Y_pred is None) and (model is not None) and (X_test is not None):\n",
        "        Y_pred = model.predict(X_test)\n",
        "    \n",
        "    if Y_pred is None:\n",
        "        raise ValueError('Y_pred or model with X_test must be provided')\n",
        "\n",
        "    fig, ax = plt.subplots(figsize=(7, 7))\n",
        "    ax.scatter(Y_test, Y_pred, alpha=0.3)\n",
        "    ax.plot([Y_test.min(), Y_test.max()], [Y_test.min(), Y_test.max()], 'r--', lw=2)\n",
        "\n",
        "    ax.set_xlabel('Measured')\n",
        "    ax.set_ylabel('Predicted')\n",
        "    if name.upper() != name:\n",
        "        name = name.capitalize()\n",
        "    ax.set_title(f'{name}: predicted vs measured')\n",
        "\n",
        "    plt.show()"
      ]
    },
    {
      "cell_type": "code",
      "execution_count": 13,
      "id": "59dcd251",
      "metadata": {},
      "outputs": [
        {
          "data": {
            "image/png": "[encoded data removed]",
            "text/plain": [
              "<Figure size 700x700 with 1 Axes>"
            ]
          },
          "metadata": {},
          "output_type": "display_data"
        }
      ],
      "source": [
        "plot_predicted_actual(y_test, 'Solubility: predicted vs real', model, X_test, y_pred_test)"
      ]
    },
    {
      "cell_type": "markdown",
      "id": "3a8da971-b518-4052-8261-f970870b3743",
      "metadata": {
        "id": "3a8da971-b518-4052-8261-f970870b3743"
      },
      "source": [
        "Следующая функция строит график зависимости качества на тестовой и тренировочной выборках от параметра модели.\\\n",
        "Измените помеченную строку в функции так, чтобы ее можно было использовать **для построения графика зависимости качества от количества соседей для модели k-NN**."
      ]
    },
    {
      "cell_type": "code",
      "execution_count": 19,
      "id": "c5f6c835-17e6-43cd-aa37-b1c4b6ad25dd",
      "metadata": {
        "id": "c5f6c835-17e6-43cd-aa37-b1c4b6ad25dd"
      },
      "outputs": [],
      "source": [
        "from sklearn.metrics import mean_squared_error\n",
        "\n",
        "def make_qual_chart(X_train, X_test, y_train, y_test, metric=mean_squared_error, init=1, limit=50, step=1):\n",
        "    train_quals = np.zeros(limit)\n",
        "    test_quals = np.zeros(limit)\n",
        "    param_range = np.arange(init, limit + 1, step)\n",
        "    \n",
        "    for ind, value in enumerate(param_range):\n",
        "        ### CHANGE THE NEXT LINE!\n",
        "        model = KNeighborsRegressor(n_neighbors=value)\n",
        "        # FIT\n",
        "        model.fit(X_train, y_train)\n",
        "        # PREDICT\n",
        "        y_train_pred = model.predict(X_train)\n",
        "        y_test_pred = model.predict(X_test)\n",
        "        # EVALUATE QUALITY\n",
        "        train_quals[ind] = metric(y_true=y_train, y_pred=y_train_pred)\n",
        "        test_quals[ind] = metric(y_true=y_test, y_pred=y_test_pred)\n",
        "    \n",
        "    # baseline = metric(y_true=y_test, y_pred=np.full_like(y_test, y_train.mean()))\n",
        "    \n",
        "    # TRACING CHART\n",
        "    plt.figure(figsize=(10, 7))\n",
        "    plt.plot(param_range, train_quals, label=\"Train\")\n",
        "    plt.plot(param_range, test_quals, label=\"Test\")\n",
        "    plt.ylabel(metric.__name__)\n",
        "    #return param_range, train_quals, test_quals\n",
        "    # plt.axhline(baseline, color=\"k\", ls=\"--\", lw=1.5, label=\"Baseline\")\n",
        "    plt.legend()\n",
        "    plt.show()\n"
      ]
    },
    {
      "cell_type": "code",
      "execution_count": 20,
      "id": "3589c57d-d338-41ab-98e8-8e9c12bcda50",
      "metadata": {
        "id": "3589c57d-d338-41ab-98e8-8e9c12bcda50"
      },
      "outputs": [
        {
          "data": {
            "image/png": "[encoded data removed]",
            "text/plain": [
              "<Figure size 1000x700 with 1 Axes>"
            ]
          },
          "metadata": {},
          "output_type": "display_data"
        }
      ],
      "source": [
        "make_qual_chart(X_train, X_test, y_train, y_test)"
      ]
    },
    {
      "cell_type": "markdown",
      "id": "770d6ecb-37be-4a13-89d0-0c969e634543",
      "metadata": {
        "id": "770d6ecb-37be-4a13-89d0-0c969e634543"
      },
      "source": [
        "Сделайте вывод о том, **какое число соседей является оптимальным для данной задачи**. Создайте отдельную модель с оптимальным параметром `n_neighbors` и постройте для нее график зависимости предсказываемого значения от истинного."
      ]
    },
    {
      "cell_type": "markdown",
      "id": "e9639192",
      "metadata": {},
      "source": [
        "Подходящее количество соседей - 20."
      ]
    },
    {
      "cell_type": "code",
      "execution_count": 22,
      "id": "4e49d11d",
      "metadata": {},
      "outputs": [
        {
          "data": {
            "image/png": "[encoded data removed]",
            "text/plain": [
              "<Figure size 700x700 with 1 Axes>"
            ]
          },
          "metadata": {},
          "output_type": "display_data"
        }
      ],
      "source": [
        "k = 20\n",
        "model = KNeighborsRegressor(n_neighbors=k)\n",
        "\n",
        "model.fit(X_train, y_train)\n",
        "\n",
        "plot_predicted_actual(y_test, 'Solubility: predicted vs real, with 20 neighbors', model, X_test)"
      ]
    },
    {
      "cell_type": "markdown",
      "id": "b055c6d7",
      "metadata": {},
      "source": [
        "Выглядит, как будто модель можно домножить на сонктанту (точки лежат на прямой, но с другим наклоном)"
      ]
    },
    {
      "cell_type": "code",
      "execution_count": 23,
      "id": "4069f4b6",
      "metadata": {},
      "outputs": [
        {
          "data": {
            "image/png": "[encoded data removed]",
            "text/plain": [
              "<Figure size 700x700 with 1 Axes>"
            ]
          },
          "metadata": {},
          "output_type": "display_data"
        }
      ],
      "source": [
        "plot_predicted_actual(y_train, 'Solubility: predicted vs real, with 20 neighbors', model, X_train)"
      ]
    },
    {
      "cell_type": "markdown",
      "id": "5fc8be62",
      "metadata": {},
      "source": [
        "Это видно и на тренировочных данных, так что это не подгон :)"
      ]
    },
    {
      "cell_type": "markdown",
      "id": "Ut0bLMCwPVs-",
      "metadata": {
        "id": "Ut0bLMCwPVs-"
      },
      "source": [
        "**Дополнительно**: сравните kNN-regressor с моделью линейной регрессии на тех же данных."
      ]
    },
    {
      "cell_type": "code",
      "execution_count": null,
      "id": "0gO-PqdqPeJ2",
      "metadata": {
        "id": "0gO-PqdqPeJ2"
      },
      "outputs": [],
      "source": []
    },
    {
      "cell_type": "markdown",
      "id": "a87d79ba-c9b2-4fcd-bb61-e3a3561b7309",
      "metadata": {
        "id": "a87d79ba-c9b2-4fcd-bb61-e3a3561b7309"
      },
      "source": [
        "### Задача 2: Обучение на геномных эмбеддингах"
      ]
    },
    {
      "cell_type": "markdown",
      "id": "018a8ba8-9f12-4aab-9b98-560553982e3b",
      "metadata": {
        "id": "018a8ba8-9f12-4aab-9b98-560553982e3b"
      },
      "source": [
        "В этой задаче предлагается произвести предсказание изменения экспрессии гена в зависимости от разных однонуклеотидных замен в регуляторном участке ДНК, основываясь на нейросетевых геномных эмбеддингах этого участка."
      ]
    },
    {
      "cell_type": "code",
      "execution_count": null,
      "id": "DRbz9nBPPHo3",
      "metadata": {
        "colab": {
          "base_uri": "https://localhost:8080/"
        },
        "id": "DRbz9nBPPHo3",
        "outputId": "7187cfef-c106-4811-a130-4e98f12dcc25"
      },
      "outputs": [
        {
          "name": "stdout",
          "output_type": "stream",
          "text": [
            "--2022-09-29 08:49:04--  https://data.bioml.ru/htdocs/courses/bioml/classic_ml/supervised/knn/data/tfs_deepsea.csv\n",
            "Resolving data.bioml.ru (data.bioml.ru)... 178.62.218.34\n",
            "Connecting to data.bioml.ru (data.bioml.ru)|178.62.218.34|:443... connected.\n",
            "HTTP request sent, awaiting response... 200 OK\n",
            "Length: 1098058 (1.0M) [text/csv]\n",
            "Saving to: ‘tfs_deepsea.csv.1’\n",
            "\n",
            "tfs_deepsea.csv.1   100%[===================>]   1.05M  2.18MB/s    in 0.5s    \n",
            "\n",
            "2022-09-29 08:49:05 (2.18 MB/s) - ‘tfs_deepsea.csv.1’ saved [1098058/1098058]\n",
            "\n"
          ]
        }
      ],
      "source": [
        "!wget https://data.bioml.ru/htdocs/courses/bioml/classic_ml/supervised/knn/data/tfs_deepsea.csv"
      ]
    },
    {
      "cell_type": "markdown",
      "id": "a9c427c4-a23b-4452-92b4-26ed2624ab5f",
      "metadata": {
        "id": "a9c427c4-a23b-4452-92b4-26ed2624ab5f"
      },
      "source": [
        "Загрузите датасет `tfs_deepsea.csv`, в качестве `y` используйте колонку `Value`, в качестве `X` - все колонки, начиная с девятой."
      ]
    },
    {
      "cell_type": "code",
      "execution_count": null,
      "id": "10bdbee0-9e71-4ad7-8e20-3ba96a47e0c4",
      "metadata": {
        "colab": {
          "base_uri": "https://localhost:8080/",
          "height": 254
        },
        "id": "10bdbee0-9e71-4ad7-8e20-3ba96a47e0c4",
        "outputId": "72b7e3e0-1e0c-4eb9-94d1-5b847e637995"
      },
      "outputs": [
        {
          "data": {
            "text/html": [
              "\n",
              "  <div id=\"df-037e07ee-f7ff-4917-a4d3-4caad50b92a3\">\n",
              "    <div class=\"colab-df-container\">\n",
              "      <div>\n",
              "<style scoped>\n",
              "    .dataframe tbody tr th:only-of-type {\n",
              "        vertical-align: middle;\n",
              "    }\n",
              "\n",
              "    .dataframe tbody tr th {\n",
              "        vertical-align: top;\n",
              "    }\n",
              "\n",
              "    .dataframe thead th {\n",
              "        text-align: right;\n",
              "    }\n",
              "</style>\n",
              "<table border=\"1\" class=\"dataframe\">\n",
              "  <thead>\n",
              "    <tr style=\"text-align: right;\">\n",
              "      <th></th>\n",
              "      <th>Chrom</th>\n",
              "      <th>Pos</th>\n",
              "      <th>Ref</th>\n",
              "      <th>Alt</th>\n",
              "      <th>Value</th>\n",
              "      <th>Confidence</th>\n",
              "      <th>Direction</th>\n",
              "      <th>construction</th>\n",
              "      <th>alt@BRCA1@ds_HepG2_normal</th>\n",
              "      <th>alt@CTCF@ds_HCM_normal</th>\n",
              "      <th>...</th>\n",
              "      <th>ref@GATA3@ds_MCF-7_normal</th>\n",
              "      <th>ref@JunD@ds_H1-hESC_None.1</th>\n",
              "      <th>ref@MafK@ds_K562_normal</th>\n",
              "      <th>ref@NRSF@ds_A549_EtOH_0.02pct</th>\n",
              "      <th>ref@Pol2-4H8@ds_GM12891_normal</th>\n",
              "      <th>ref@Pol2@ds_GM12878_None.2</th>\n",
              "      <th>ref@Pol2@ds_GM12878_None.3</th>\n",
              "      <th>ref@Pol2@ds_GM12878_normal</th>\n",
              "      <th>ref@c-Fos@ds_K562_normal</th>\n",
              "      <th>ref@c-Myc@ds_K562_normal</th>\n",
              "    </tr>\n",
              "  </thead>\n",
              "  <tbody>\n",
              "    <tr>\n",
              "      <th>0</th>\n",
              "      <td>9</td>\n",
              "      <td>104195582</td>\n",
              "      <td>G</td>\n",
              "      <td>C</td>\n",
              "      <td>-0.009418</td>\n",
              "      <td>0.001075</td>\n",
              "      <td>0</td>\n",
              "      <td>ALDOB</td>\n",
              "      <td>0.000056</td>\n",
              "      <td>0.000949</td>\n",
              "      <td>...</td>\n",
              "      <td>0.00934</td>\n",
              "      <td>0.000637</td>\n",
              "      <td>0.082889</td>\n",
              "      <td>0.007880</td>\n",
              "      <td>0.000568</td>\n",
              "      <td>0.000095</td>\n",
              "      <td>0.000287</td>\n",
              "      <td>0.000147</td>\n",
              "      <td>0.000588</td>\n",
              "      <td>0.001214</td>\n",
              "    </tr>\n",
              "    <tr>\n",
              "      <th>1</th>\n",
              "      <td>9</td>\n",
              "      <td>104195582</td>\n",
              "      <td>G</td>\n",
              "      <td>T</td>\n",
              "      <td>-0.212088</td>\n",
              "      <td>0.034187</td>\n",
              "      <td>0</td>\n",
              "      <td>ALDOB</td>\n",
              "      <td>0.000051</td>\n",
              "      <td>0.000857</td>\n",
              "      <td>...</td>\n",
              "      <td>0.00934</td>\n",
              "      <td>0.000637</td>\n",
              "      <td>0.082889</td>\n",
              "      <td>0.007880</td>\n",
              "      <td>0.000568</td>\n",
              "      <td>0.000095</td>\n",
              "      <td>0.000287</td>\n",
              "      <td>0.000147</td>\n",
              "      <td>0.000588</td>\n",
              "      <td>0.001214</td>\n",
              "    </tr>\n",
              "    <tr>\n",
              "      <th>2</th>\n",
              "      <td>9</td>\n",
              "      <td>104195700</td>\n",
              "      <td>T</td>\n",
              "      <td>A</td>\n",
              "      <td>0.709840</td>\n",
              "      <td>0.364072</td>\n",
              "      <td>1</td>\n",
              "      <td>ALDOB</td>\n",
              "      <td>0.000089</td>\n",
              "      <td>0.001784</td>\n",
              "      <td>...</td>\n",
              "      <td>0.00292</td>\n",
              "      <td>0.001019</td>\n",
              "      <td>0.100890</td>\n",
              "      <td>0.004289</td>\n",
              "      <td>0.000554</td>\n",
              "      <td>0.000142</td>\n",
              "      <td>0.000209</td>\n",
              "      <td>0.000282</td>\n",
              "      <td>0.001091</td>\n",
              "      <td>0.000891</td>\n",
              "    </tr>\n",
              "  </tbody>\n",
              "</table>\n",
              "<p>3 rows × 108 columns</p>\n",
              "</div>\n",
              "      <button class=\"colab-df-convert\" onclick=\"convertToInteractive('df-037e07ee-f7ff-4917-a4d3-4caad50b92a3')\"\n",
              "              title=\"Convert this dataframe to an interactive table.\"\n",
              "              style=\"display:none;\">\n",
              "        \n",
              "  <svg xmlns=\"http://www.w3.org/2000/svg\" height=\"24px\"viewBox=\"0 0 24 24\"\n",
              "       width=\"24px\">\n",
              "    <path d=\"M0 0h24v24H0V0z\" fill=\"none\"/>\n",
              "    <path d=\"M18.56 5.44l.94 2.06.94-2.06 2.06-.94-2.06-.94-.94-2.06-.94 2.06-2.06.94zm-11 1L8.5 8.5l.94-2.06 2.06-.94-2.06-.94L8.5 2.5l-.94 2.06-2.06.94zm10 10l.94 2.06.94-2.06 2.06-.94-2.06-.94-.94-2.06-.94 2.06-2.06.94z\"/><path d=\"M17.41 7.96l-1.37-1.37c-.4-.4-.92-.59-1.43-.59-.52 0-1.04.2-1.43.59L10.3 9.45l-7.72 7.72c-.78.78-.78 2.05 0 2.83L4 21.41c.39.39.9.59 1.41.59.51 0 1.02-.2 1.41-.59l7.78-7.78 2.81-2.81c.8-.78.8-2.07 0-2.86zM5.41 20L4 18.59l7.72-7.72 1.47 1.35L5.41 20z\"/>\n",
              "  </svg>\n",
              "      </button>\n",
              "      \n",
              "  <style>\n",
              "    .colab-df-container {\n",
              "      display:flex;\n",
              "      flex-wrap:wrap;\n",
              "      gap: 12px;\n",
              "    }\n",
              "\n",
              "    .colab-df-convert {\n",
              "      background-color: #E8F0FE;\n",
              "      border: none;\n",
              "      border-radius: 50%;\n",
              "      cursor: pointer;\n",
              "      display: none;\n",
              "      fill: #1967D2;\n",
              "      height: 32px;\n",
              "      padding: 0 0 0 0;\n",
              "      width: 32px;\n",
              "    }\n",
              "\n",
              "    .colab-df-convert:hover {\n",
              "      background-color: #E2EBFA;\n",
              "      box-shadow: 0px 1px 2px rgba(60, 64, 67, 0.3), 0px 1px 3px 1px rgba(60, 64, 67, 0.15);\n",
              "      fill: #174EA6;\n",
              "    }\n",
              "\n",
              "    [theme=dark] .colab-df-convert {\n",
              "      background-color: #3B4455;\n",
              "      fill: #D2E3FC;\n",
              "    }\n",
              "\n",
              "    [theme=dark] .colab-df-convert:hover {\n",
              "      background-color: #434B5C;\n",
              "      box-shadow: 0px 1px 3px 1px rgba(0, 0, 0, 0.15);\n",
              "      filter: drop-shadow(0px 1px 2px rgba(0, 0, 0, 0.3));\n",
              "      fill: #FFFFFF;\n",
              "    }\n",
              "  </style>\n",
              "\n",
              "      <script>\n",
              "        const buttonEl =\n",
              "          document.querySelector('#df-037e07ee-f7ff-4917-a4d3-4caad50b92a3 button.colab-df-convert');\n",
              "        buttonEl.style.display =\n",
              "          google.colab.kernel.accessAllowed ? 'block' : 'none';\n",
              "\n",
              "        async function convertToInteractive(key) {\n",
              "          const element = document.querySelector('#df-037e07ee-f7ff-4917-a4d3-4caad50b92a3');\n",
              "          const dataTable =\n",
              "            await google.colab.kernel.invokeFunction('convertToInteractive',\n",
              "                                                     [key], {});\n",
              "          if (!dataTable) return;\n",
              "\n",
              "          const docLinkHtml = 'Like what you see? Visit the ' +\n",
              "            '<a target=\"_blank\" href=https://colab.research.google.com/notebooks/data_table.ipynb>data table notebook</a>'\n",
              "            + ' to learn more about interactive tables.';\n",
              "          element.innerHTML = '';\n",
              "          dataTable['output_type'] = 'display_data';\n",
              "          await google.colab.output.renderOutput(dataTable, element);\n",
              "          const docLink = document.createElement('div');\n",
              "          docLink.innerHTML = docLinkHtml;\n",
              "          element.appendChild(docLink);\n",
              "        }\n",
              "      </script>\n",
              "    </div>\n",
              "  </div>\n",
              "  "
            ],
            "text/plain": [
              "   Chrom        Pos Ref Alt     Value  Confidence  Direction construction  \\\n",
              "0      9  104195582   G   C -0.009418    0.001075          0        ALDOB   \n",
              "1      9  104195582   G   T -0.212088    0.034187          0        ALDOB   \n",
              "2      9  104195700   T   A  0.709840    0.364072          1        ALDOB   \n",
              "\n",
              "   alt@BRCA1@ds_HepG2_normal  alt@CTCF@ds_HCM_normal  ...  \\\n",
              "0                   0.000056                0.000949  ...   \n",
              "1                   0.000051                0.000857  ...   \n",
              "2                   0.000089                0.001784  ...   \n",
              "\n",
              "   ref@GATA3@ds_MCF-7_normal  ref@JunD@ds_H1-hESC_None.1  \\\n",
              "0                    0.00934                    0.000637   \n",
              "1                    0.00934                    0.000637   \n",
              "2                    0.00292                    0.001019   \n",
              "\n",
              "   ref@MafK@ds_K562_normal  ref@NRSF@ds_A549_EtOH_0.02pct  \\\n",
              "0                 0.082889                       0.007880   \n",
              "1                 0.082889                       0.007880   \n",
              "2                 0.100890                       0.004289   \n",
              "\n",
              "   ref@Pol2-4H8@ds_GM12891_normal  ref@Pol2@ds_GM12878_None.2  \\\n",
              "0                        0.000568                    0.000095   \n",
              "1                        0.000568                    0.000095   \n",
              "2                        0.000554                    0.000142   \n",
              "\n",
              "   ref@Pol2@ds_GM12878_None.3  ref@Pol2@ds_GM12878_normal  \\\n",
              "0                    0.000287                    0.000147   \n",
              "1                    0.000287                    0.000147   \n",
              "2                    0.000209                    0.000282   \n",
              "\n",
              "   ref@c-Fos@ds_K562_normal  ref@c-Myc@ds_K562_normal  \n",
              "0                  0.000588                  0.001214  \n",
              "1                  0.000588                  0.001214  \n",
              "2                  0.001091                  0.000891  \n",
              "\n",
              "[3 rows x 108 columns]"
            ]
          },
          "execution_count": 88,
          "metadata": {},
          "output_type": "execute_result"
        }
      ],
      "source": [
        "tfs = pd.read_csv(\"tfs_deepsea.csv\", header=0)\n",
        "tfs.head(3)"
      ]
    },
    {
      "cell_type": "markdown",
      "id": "de761526-7be2-4f21-b92d-1df55ec1e59e",
      "metadata": {
        "id": "de761526-7be2-4f21-b92d-1df55ec1e59e"
      },
      "source": [
        "**Разбейте X и y на тренировочную и тестовую выборки**, как в лекции. Соотношение train/test поставьте равным 4:1.\\\n",
        "*Подсказка*: воспользуйтесь функцией `train_test_split`."
      ]
    },
    {
      "cell_type": "code",
      "execution_count": null,
      "id": "2685d7e6-1f7a-4c22-9e7d-c4312c39bb53",
      "metadata": {
        "id": "2685d7e6-1f7a-4c22-9e7d-c4312c39bb53"
      },
      "outputs": [],
      "source": []
    },
    {
      "cell_type": "markdown",
      "id": "ec0a711a-5755-4bba-9bed-0a4718d1248d",
      "metadata": {
        "id": "ec0a711a-5755-4bba-9bed-0a4718d1248d"
      },
      "source": [
        "**Осуществите стандартизацию признаков в выборке**."
      ]
    },
    {
      "cell_type": "code",
      "execution_count": null,
      "id": "4ebe265e-aa17-47a7-9faa-727eb06ec19a",
      "metadata": {
        "id": "4ebe265e-aa17-47a7-9faa-727eb06ec19a"
      },
      "outputs": [],
      "source": []
    },
    {
      "cell_type": "markdown",
      "id": "74eb7e2b-4dc8-4d36-83ab-9ef5cf252886",
      "metadata": {
        "id": "74eb7e2b-4dc8-4d36-83ab-9ef5cf252886"
      },
      "source": [
        "**Импортируйте модель линейной регрессии и обучите ее на соответствующей части выборки (`model.fit`)**."
      ]
    },
    {
      "cell_type": "code",
      "execution_count": null,
      "id": "aeNEJnkdmzaN",
      "metadata": {
        "id": "aeNEJnkdmzaN"
      },
      "outputs": [],
      "source": []
    },
    {
      "cell_type": "markdown",
      "id": "04d4e9d0-8122-46e1-9341-e5000f3ee715",
      "metadata": {
        "id": "04d4e9d0-8122-46e1-9341-e5000f3ee715"
      },
      "source": [
        "**Получите предсказание на оставшейся выборке**. Оцените его качество метриками MSE и RMSE. Насколько хороша модель?"
      ]
    },
    {
      "cell_type": "code",
      "execution_count": null,
      "id": "MEO9LR4Hm0r_",
      "metadata": {
        "id": "MEO9LR4Hm0r_"
      },
      "outputs": [],
      "source": []
    },
    {
      "cell_type": "markdown",
      "id": "jt7YjY3yEZKx",
      "metadata": {
        "id": "jt7YjY3yEZKx"
      },
      "source": [
        "Оцените качество графически и с помощью коэффициента корреляции Пирсона."
      ]
    },
    {
      "cell_type": "code",
      "execution_count": null,
      "id": "vP8dJXVNm2LK",
      "metadata": {
        "id": "vP8dJXVNm2LK"
      },
      "outputs": [],
      "source": []
    },
    {
      "cell_type": "markdown",
      "id": "N-W07mxXc38e",
      "metadata": {
        "id": "N-W07mxXc38e"
      },
      "source": [
        "**Воспользуйтесь моделью kNN-regressor**. Оцените ее качество."
      ]
    },
    {
      "cell_type": "code",
      "execution_count": null,
      "id": "PcJEtThym371",
      "metadata": {
        "id": "PcJEtThym371"
      },
      "outputs": [],
      "source": []
    },
    {
      "cell_type": "markdown",
      "id": "cd886df0-66f0-4e46-8754-ba221400048e",
      "metadata": {
        "id": "cd886df0-66f0-4e46-8754-ba221400048e"
      },
      "source": [
        "Разбейте X и y на тренировочную и тестовую выборки, **так, как указано в ячейке ниже**. Повторите все шаги, чтобы определить качество регрессии для:\n",
        "1. Линейной регрессии;\n",
        "2. kNN-регрессии."
      ]
    },
    {
      "cell_type": "markdown",
      "id": "_8OxPRsmhMFR",
      "metadata": {
        "id": "_8OxPRsmhMFR"
      },
      "source": [
        "Биологический смысл указанного разбиения: использовать для обучения один промоторный регион при осуществлении предсказания на другом."
      ]
    },
    {
      "cell_type": "code",
      "execution_count": null,
      "id": "64ed362f-42ad-4fa8-b833-80745c8c962e",
      "metadata": {
        "id": "64ed362f-42ad-4fa8-b833-80745c8c962e"
      },
      "outputs": [],
      "source": [
        "X_train = X[tfs_metadata[\"construction\"] == \"ECR11\"].values\n",
        "X_test = X[tfs_metadata[\"construction\"] == \"ALDOB\"].values\n",
        "y_train = y[tfs_metadata[\"construction\"] == \"ECR11\"].values\n",
        "y_test = y[tfs_metadata[\"construction\"] == \"ALDOB\"].values"
      ]
    },
    {
      "cell_type": "code",
      "execution_count": null,
      "id": "oVi8dFITm6VN",
      "metadata": {
        "id": "oVi8dFITm6VN"
      },
      "outputs": [],
      "source": []
    },
    {
      "cell_type": "markdown",
      "id": "16bcf556-47ef-460c-aaaf-97442ca77692",
      "metadata": {
        "id": "16bcf556-47ef-460c-aaaf-97442ca77692"
      },
      "source": [
        "**Сделайте выводы о пригодности модели линейной регрессии для такого анализа**. Есть ли здесь биологический смысл?"
      ]
    },
    {
      "cell_type": "code",
      "execution_count": null,
      "id": "_gxjKDUHgg3c",
      "metadata": {
        "id": "_gxjKDUHgg3c"
      },
      "outputs": [],
      "source": []
    },
    {
      "cell_type": "markdown",
      "id": "e8482c12-6d88-4916-a847-6b5353fe55c1",
      "metadata": {
        "id": "e8482c12-6d88-4916-a847-6b5353fe55c1"
      },
      "source": [
        "### Задача 3: Классификация химических веществ"
      ]
    },
    {
      "cell_type": "markdown",
      "id": "R5HZLtNmFKnP",
      "metadata": {
        "id": "R5HZLtNmFKnP"
      },
      "source": [
        "Повторим задачу из предыдущего семинара, но возьмем для ее решения другую модель: логистическую регрессию."
      ]
    },
    {
      "cell_type": "code",
      "execution_count": null,
      "id": "-r3XZfzYPOBO",
      "metadata": {
        "colab": {
          "base_uri": "https://localhost:8080/"
        },
        "id": "-r3XZfzYPOBO",
        "outputId": "752f7bae-9040-4282-ae20-e937d1d4d16c"
      },
      "outputs": [
        {
          "name": "stdout",
          "output_type": "stream",
          "text": [
            "--2022-09-29 09:15:13--  https://data.bioml.ru/htdocs/courses/bioml/classic_ml/supervised/knn/data/bace.csv\n",
            "Resolving data.bioml.ru (data.bioml.ru)... 178.62.218.34\n",
            "Connecting to data.bioml.ru (data.bioml.ru)|178.62.218.34|:443... connected.\n",
            "HTTP request sent, awaiting response... 200 OK\n",
            "Length: 3897767 (3.7M) [text/csv]\n",
            "Saving to: ‘bace.csv’\n",
            "\n",
            "bace.csv            100%[===================>]   3.72M  5.55MB/s    in 0.7s    \n",
            "\n",
            "2022-09-29 09:15:14 (5.55 MB/s) - ‘bace.csv’ saved [3897767/3897767]\n",
            "\n"
          ]
        }
      ],
      "source": [
        "!wget https://data.bioml.ru/htdocs/courses/bioml/classic_ml/supervised/knn/data/bace.csv"
      ]
    },
    {
      "cell_type": "markdown",
      "id": "c6e33fae-8f5c-4207-abe5-b27cf4d47436",
      "metadata": {
        "id": "c6e33fae-8f5c-4207-abe5-b27cf4d47436"
      },
      "source": [
        "Датасет [BACE](http://moleculenet.ai/datasets-1) загружен за вас, определены `X`, `y` и `smiles`."
      ]
    },
    {
      "cell_type": "code",
      "execution_count": null,
      "id": "26b131ae-2a07-48f3-a24f-d406471a99b1",
      "metadata": {
        "colab": {
          "base_uri": "https://localhost:8080/",
          "height": 306
        },
        "id": "26b131ae-2a07-48f3-a24f-d406471a99b1",
        "outputId": "24f6ebb0-3eac-4951-c0d7-177d2b8685ff"
      },
      "outputs": [
        {
          "data": {
            "text/html": [
              "\n",
              "  <div id=\"df-bb7d1417-30b2-4d60-8104-0561063507e7\">\n",
              "    <div class=\"colab-df-container\">\n",
              "      <div>\n",
              "<style scoped>\n",
              "    .dataframe tbody tr th:only-of-type {\n",
              "        vertical-align: middle;\n",
              "    }\n",
              "\n",
              "    .dataframe tbody tr th {\n",
              "        vertical-align: top;\n",
              "    }\n",
              "\n",
              "    .dataframe thead th {\n",
              "        text-align: right;\n",
              "    }\n",
              "</style>\n",
              "<table border=\"1\" class=\"dataframe\">\n",
              "  <thead>\n",
              "    <tr style=\"text-align: right;\">\n",
              "      <th></th>\n",
              "      <th>mol</th>\n",
              "      <th>CID</th>\n",
              "      <th>Class</th>\n",
              "      <th>Model</th>\n",
              "      <th>pIC50</th>\n",
              "      <th>MW</th>\n",
              "      <th>AlogP</th>\n",
              "      <th>HBA</th>\n",
              "      <th>HBD</th>\n",
              "      <th>RB</th>\n",
              "      <th>...</th>\n",
              "      <th>PEOE6 (PEOE6)</th>\n",
              "      <th>PEOE7 (PEOE7)</th>\n",
              "      <th>PEOE8 (PEOE8)</th>\n",
              "      <th>PEOE9 (PEOE9)</th>\n",
              "      <th>PEOE10 (PEOE10)</th>\n",
              "      <th>PEOE11 (PEOE11)</th>\n",
              "      <th>PEOE12 (PEOE12)</th>\n",
              "      <th>PEOE13 (PEOE13)</th>\n",
              "      <th>PEOE14 (PEOE14)</th>\n",
              "      <th>canvasUID</th>\n",
              "    </tr>\n",
              "  </thead>\n",
              "  <tbody>\n",
              "    <tr>\n",
              "      <th>0</th>\n",
              "      <td>O1CC[C@@H](NC(=O)[C@@H](Cc2cc3cc(ccc3nc2N)-c2c...</td>\n",
              "      <td>BACE_1</td>\n",
              "      <td>1</td>\n",
              "      <td>Train</td>\n",
              "      <td>9.154901</td>\n",
              "      <td>431.56979</td>\n",
              "      <td>4.4014</td>\n",
              "      <td>3</td>\n",
              "      <td>2</td>\n",
              "      <td>5</td>\n",
              "      <td>...</td>\n",
              "      <td>53.205711</td>\n",
              "      <td>78.640335</td>\n",
              "      <td>226.85541</td>\n",
              "      <td>107.43491</td>\n",
              "      <td>37.133846</td>\n",
              "      <td>0.000000</td>\n",
              "      <td>7.980170</td>\n",
              "      <td>0.0</td>\n",
              "      <td>0.000000</td>\n",
              "      <td>1</td>\n",
              "    </tr>\n",
              "    <tr>\n",
              "      <th>1</th>\n",
              "      <td>Fc1cc(cc(F)c1)C[C@H](NC(=O)[C@@H](N1CC[C@](NC(...</td>\n",
              "      <td>BACE_2</td>\n",
              "      <td>1</td>\n",
              "      <td>Train</td>\n",
              "      <td>8.853872</td>\n",
              "      <td>657.81073</td>\n",
              "      <td>2.6412</td>\n",
              "      <td>5</td>\n",
              "      <td>4</td>\n",
              "      <td>16</td>\n",
              "      <td>...</td>\n",
              "      <td>73.817162</td>\n",
              "      <td>47.171600</td>\n",
              "      <td>365.67694</td>\n",
              "      <td>174.07675</td>\n",
              "      <td>34.923889</td>\n",
              "      <td>7.980170</td>\n",
              "      <td>24.148668</td>\n",
              "      <td>0.0</td>\n",
              "      <td>24.663788</td>\n",
              "      <td>2</td>\n",
              "    </tr>\n",
              "    <tr>\n",
              "      <th>2</th>\n",
              "      <td>S1(=O)(=O)N(c2cc(cc3c2n(cc3CC)CC1)C(=O)N[C@H](...</td>\n",
              "      <td>BACE_3</td>\n",
              "      <td>1</td>\n",
              "      <td>Train</td>\n",
              "      <td>8.698970</td>\n",
              "      <td>591.74091</td>\n",
              "      <td>2.5499</td>\n",
              "      <td>4</td>\n",
              "      <td>3</td>\n",
              "      <td>11</td>\n",
              "      <td>...</td>\n",
              "      <td>70.365707</td>\n",
              "      <td>47.941147</td>\n",
              "      <td>192.40652</td>\n",
              "      <td>255.75255</td>\n",
              "      <td>23.654478</td>\n",
              "      <td>0.230159</td>\n",
              "      <td>15.879790</td>\n",
              "      <td>0.0</td>\n",
              "      <td>24.663788</td>\n",
              "      <td>3</td>\n",
              "    </tr>\n",
              "  </tbody>\n",
              "</table>\n",
              "<p>3 rows × 595 columns</p>\n",
              "</div>\n",
              "      <button class=\"colab-df-convert\" onclick=\"convertToInteractive('df-bb7d1417-30b2-4d60-8104-0561063507e7')\"\n",
              "              title=\"Convert this dataframe to an interactive table.\"\n",
              "              style=\"display:none;\">\n",
              "        \n",
              "  <svg xmlns=\"http://www.w3.org/2000/svg\" height=\"24px\"viewBox=\"0 0 24 24\"\n",
              "       width=\"24px\">\n",
              "    <path d=\"M0 0h24v24H0V0z\" fill=\"none\"/>\n",
              "    <path d=\"M18.56 5.44l.94 2.06.94-2.06 2.06-.94-2.06-.94-.94-2.06-.94 2.06-2.06.94zm-11 1L8.5 8.5l.94-2.06 2.06-.94-2.06-.94L8.5 2.5l-.94 2.06-2.06.94zm10 10l.94 2.06.94-2.06 2.06-.94-2.06-.94-.94-2.06-.94 2.06-2.06.94z\"/><path d=\"M17.41 7.96l-1.37-1.37c-.4-.4-.92-.59-1.43-.59-.52 0-1.04.2-1.43.59L10.3 9.45l-7.72 7.72c-.78.78-.78 2.05 0 2.83L4 21.41c.39.39.9.59 1.41.59.51 0 1.02-.2 1.41-.59l7.78-7.78 2.81-2.81c.8-.78.8-2.07 0-2.86zM5.41 20L4 18.59l7.72-7.72 1.47 1.35L5.41 20z\"/>\n",
              "  </svg>\n",
              "      </button>\n",
              "      \n",
              "  <style>\n",
              "    .colab-df-container {\n",
              "      display:flex;\n",
              "      flex-wrap:wrap;\n",
              "      gap: 12px;\n",
              "    }\n",
              "\n",
              "    .colab-df-convert {\n",
              "      background-color: #E8F0FE;\n",
              "      border: none;\n",
              "      border-radius: 50%;\n",
              "      cursor: pointer;\n",
              "      display: none;\n",
              "      fill: #1967D2;\n",
              "      height: 32px;\n",
              "      padding: 0 0 0 0;\n",
              "      width: 32px;\n",
              "    }\n",
              "\n",
              "    .colab-df-convert:hover {\n",
              "      background-color: #E2EBFA;\n",
              "      box-shadow: 0px 1px 2px rgba(60, 64, 67, 0.3), 0px 1px 3px 1px rgba(60, 64, 67, 0.15);\n",
              "      fill: #174EA6;\n",
              "    }\n",
              "\n",
              "    [theme=dark] .colab-df-convert {\n",
              "      background-color: #3B4455;\n",
              "      fill: #D2E3FC;\n",
              "    }\n",
              "\n",
              "    [theme=dark] .colab-df-convert:hover {\n",
              "      background-color: #434B5C;\n",
              "      box-shadow: 0px 1px 3px 1px rgba(0, 0, 0, 0.15);\n",
              "      filter: drop-shadow(0px 1px 2px rgba(0, 0, 0, 0.3));\n",
              "      fill: #FFFFFF;\n",
              "    }\n",
              "  </style>\n",
              "\n",
              "      <script>\n",
              "        const buttonEl =\n",
              "          document.querySelector('#df-bb7d1417-30b2-4d60-8104-0561063507e7 button.colab-df-convert');\n",
              "        buttonEl.style.display =\n",
              "          google.colab.kernel.accessAllowed ? 'block' : 'none';\n",
              "\n",
              "        async function convertToInteractive(key) {\n",
              "          const element = document.querySelector('#df-bb7d1417-30b2-4d60-8104-0561063507e7');\n",
              "          const dataTable =\n",
              "            await google.colab.kernel.invokeFunction('convertToInteractive',\n",
              "                                                     [key], {});\n",
              "          if (!dataTable) return;\n",
              "\n",
              "          const docLinkHtml = 'Like what you see? Visit the ' +\n",
              "            '<a target=\"_blank\" href=https://colab.research.google.com/notebooks/data_table.ipynb>data table notebook</a>'\n",
              "            + ' to learn more about interactive tables.';\n",
              "          element.innerHTML = '';\n",
              "          dataTable['output_type'] = 'display_data';\n",
              "          await google.colab.output.renderOutput(dataTable, element);\n",
              "          const docLink = document.createElement('div');\n",
              "          docLink.innerHTML = docLinkHtml;\n",
              "          element.appendChild(docLink);\n",
              "        }\n",
              "      </script>\n",
              "    </div>\n",
              "  </div>\n",
              "  "
            ],
            "text/plain": [
              "                                                 mol     CID  Class  Model  \\\n",
              "0  O1CC[C@@H](NC(=O)[C@@H](Cc2cc3cc(ccc3nc2N)-c2c...  BACE_1      1  Train   \n",
              "1  Fc1cc(cc(F)c1)C[C@H](NC(=O)[C@@H](N1CC[C@](NC(...  BACE_2      1  Train   \n",
              "2  S1(=O)(=O)N(c2cc(cc3c2n(cc3CC)CC1)C(=O)N[C@H](...  BACE_3      1  Train   \n",
              "\n",
              "      pIC50         MW   AlogP  HBA  HBD  RB  ...  PEOE6 (PEOE6)  \\\n",
              "0  9.154901  431.56979  4.4014    3    2   5  ...      53.205711   \n",
              "1  8.853872  657.81073  2.6412    5    4  16  ...      73.817162   \n",
              "2  8.698970  591.74091  2.5499    4    3  11  ...      70.365707   \n",
              "\n",
              "   PEOE7 (PEOE7)  PEOE8 (PEOE8)  PEOE9 (PEOE9)  PEOE10 (PEOE10)  \\\n",
              "0      78.640335      226.85541      107.43491        37.133846   \n",
              "1      47.171600      365.67694      174.07675        34.923889   \n",
              "2      47.941147      192.40652      255.75255        23.654478   \n",
              "\n",
              "   PEOE11 (PEOE11)  PEOE12 (PEOE12)  PEOE13 (PEOE13)  PEOE14 (PEOE14)  \\\n",
              "0         0.000000         7.980170              0.0         0.000000   \n",
              "1         7.980170        24.148668              0.0        24.663788   \n",
              "2         0.230159        15.879790              0.0        24.663788   \n",
              "\n",
              "   canvasUID  \n",
              "0          1  \n",
              "1          2  \n",
              "2          3  \n",
              "\n",
              "[3 rows x 595 columns]"
            ]
          },
          "execution_count": 127,
          "metadata": {},
          "output_type": "execute_result"
        }
      ],
      "source": [
        "bace = pd.read_csv(\"./bace.csv\", header=0)\n",
        "bace.head(3)"
      ]
    },
    {
      "cell_type": "code",
      "execution_count": null,
      "id": "4d7630b3-92e2-4d1f-b305-30e211de181e",
      "metadata": {
        "id": "4d7630b3-92e2-4d1f-b305-30e211de181e"
      },
      "outputs": [],
      "source": [
        "X = bace.iloc[:,4:].values\n",
        "y = bace[\"Class\"].values\n",
        "smiles = bace[\"mol\"].values"
      ]
    },
    {
      "cell_type": "markdown",
      "id": "b82862fa-1ac5-4418-ba1f-8db8173ebd8b",
      "metadata": {
        "id": "b82862fa-1ac5-4418-ba1f-8db8173ebd8b"
      },
      "source": [
        "**Разбейте X и y на тренировочную и тестовую выборки**, как в лекции. Соотношение train/test поставьте равным 3:1.\\\n",
        "*Подсказка*: воспользуйтесь функцией `train_test_split`."
      ]
    },
    {
      "cell_type": "code",
      "execution_count": null,
      "id": "3be4f823-3b68-4988-a597-bae25c8ddd73",
      "metadata": {
        "id": "3be4f823-3b68-4988-a597-bae25c8ddd73"
      },
      "outputs": [],
      "source": []
    },
    {
      "cell_type": "markdown",
      "id": "e8413973-d3b5-49f4-8234-c115fd15ad23",
      "metadata": {
        "id": "e8413973-d3b5-49f4-8234-c115fd15ad23"
      },
      "source": [
        "**Осуществите стандартизацию признаков в выборке**."
      ]
    },
    {
      "cell_type": "code",
      "execution_count": null,
      "id": "7d2574c1-bc21-4dc6-b983-1303269b3bed",
      "metadata": {
        "id": "7d2574c1-bc21-4dc6-b983-1303269b3bed"
      },
      "outputs": [],
      "source": []
    },
    {
      "cell_type": "markdown",
      "id": "6c71dc81-9935-4493-b1a2-56fb5be672d0",
      "metadata": {
        "id": "6c71dc81-9935-4493-b1a2-56fb5be672d0"
      },
      "source": [
        "**Импортируйте модель логистической регрессии и обучите ее на соответствующей части выборки (`model.fit`)**.\n",
        "\n",
        "Для модели `LogisticRegression` укажите параметры `max_iter=200`, `penalty=\"none\"`."
      ]
    },
    {
      "cell_type": "code",
      "execution_count": null,
      "id": "Vcu8wTj7nGcU",
      "metadata": {
        "id": "Vcu8wTj7nGcU"
      },
      "outputs": [],
      "source": []
    },
    {
      "cell_type": "markdown",
      "id": "b12d7f89-ee99-47aa-b0ff-52e312a0938f",
      "metadata": {
        "id": "b12d7f89-ee99-47aa-b0ff-52e312a0938f"
      },
      "source": [
        "**Получите предсказание на оставшейся выборке**. Оцените его качество метриками из отчета о классификации (`classification_report`) и интегральной метрикой AUC ROC."
      ]
    },
    {
      "cell_type": "code",
      "execution_count": null,
      "id": "dQZ2jF-4bC8F",
      "metadata": {
        "id": "dQZ2jF-4bC8F"
      },
      "outputs": [],
      "source": []
    },
    {
      "cell_type": "markdown",
      "id": "7y7vO83KbDRV",
      "metadata": {
        "id": "7y7vO83KbDRV"
      },
      "source": [
        "**Регуляризация ElasticNet** вносит в функцию потерь линейную комбинацию регуляризаций L1 и L2. Подберите оптимальное соотношение для этих данных. Для определения требуемого параметра (соотношение L1 и L2) воспользуйтесь документацией конструктора модели `LogisticRegression`."
      ]
    },
    {
      "cell_type": "code",
      "execution_count": null,
      "id": "a4561cf9-15ca-4d45-903f-14b478ac8448",
      "metadata": {
        "id": "a4561cf9-15ca-4d45-903f-14b478ac8448"
      },
      "outputs": [],
      "source": [
        "from tqdm import tqdm\n",
        "from sklearn.metrics import f1_score\n",
        "from sklearn.linear_model import LogisticRegression\n",
        "\n",
        "init = 0\n",
        "limit = 1\n",
        "step = 0.05\n",
        "\n",
        "param_range = np.arange(init, limit + step, step)\n",
        "train_quals = np.zeros(len(param_range))\n",
        "test_quals = np.zeros(len(param_range))\n",
        "\n",
        "# baseline = f1_score(y_true=y_test, y_pred=np.full_like(y_test, y_train.mean()))\n",
        "\n",
        "for ind, value in tqdm(enumerate(param_range), total=len(param_range)):\n",
        "    # CREATING MODEL (CHANGE THIS LINE!)\n",
        "    model = LogisticRegression(max_iter=10000, solver=\"saga\", penalty=\"elasticnet\")\n",
        "    # FIT\n",
        "    model.fit(X_train, y_train)\n",
        "    # PREDICT\n",
        "    y_train_pred = model.predict(X_train)\n",
        "    y_test_pred = model.predict(X_test)\n",
        "    # EVALUATE QUALITY\n",
        "    train_quals[ind] = f1_score(y_true=y_train, y_pred=y_train_pred)\n",
        "    test_quals[ind] = f1_score(y_true=y_test, y_pred=y_test_pred)"
      ]
    },
    {
      "cell_type": "code",
      "execution_count": null,
      "id": "4GNyq-nalWwX",
      "metadata": {
        "id": "4GNyq-nalWwX"
      },
      "outputs": [],
      "source": [
        "# TRACING CHART\n",
        "plt.figure(figsize=(10, 7))\n",
        "plt.plot(param_range, train_quals, label=\"Train\")\n",
        "plt.plot(param_range, test_quals, label=\"Test\")\n",
        "# plt.axhline(baseline, color=\"k\", ls=\"--\", lw=1.5, label=\"Baseline\")\n",
        "plt.legend()\n",
        "plt.show()"
      ]
    },
    {
      "cell_type": "markdown",
      "id": "d1051f3a-d90a-4cfb-887c-97aad6b31158",
      "metadata": {
        "id": "d1051f3a-d90a-4cfb-887c-97aad6b31158"
      },
      "source": [
        "**Сделайте выводы**."
      ]
    },
    {
      "cell_type": "code",
      "execution_count": null,
      "id": "e26b8e9c-1824-406c-a423-d006bfdbc9e8",
      "metadata": {
        "id": "e26b8e9c-1824-406c-a423-d006bfdbc9e8"
      },
      "outputs": [],
      "source": []
    },
    {
      "cell_type": "markdown",
      "id": "zpc98pqosQCh",
      "metadata": {
        "id": "zpc98pqosQCh"
      },
      "source": [
        "## Задача 4: Обучение на сгенерированных данных"
      ]
    },
    {
      "cell_type": "code",
      "execution_count": null,
      "id": "GMVIR1BprxYe",
      "metadata": {
        "id": "GMVIR1BprxYe"
      },
      "outputs": [],
      "source": [
        "import numpy as np\n",
        "import pandas as pd"
      ]
    },
    {
      "cell_type": "markdown",
      "id": "tdb97wJVrxYe",
      "metadata": {
        "id": "tdb97wJVrxYe"
      },
      "source": [
        "Сгенерируем датасет с _здоровыми_ и _больными_ пациентами и данными об _экспрессии_ их генов.\n"
      ]
    },
    {
      "cell_type": "code",
      "execution_count": null,
      "id": "wm8llH3lrxYf",
      "metadata": {
        "id": "wm8llH3lrxYf"
      },
      "outputs": [],
      "source": [
        "gene_count = 10000\n",
        "genes = [f\"Gene{ind}\" for ind in range(gene_count)]\n",
        "healthy = pd.DataFrame(np.random.normal(size=(100, gene_count), loc=0, scale=1),\n",
        "                       columns=genes)\n",
        "healthy[\"state\"] = \"healthy\"\n",
        "diseased = pd.DataFrame(np.random.normal(size=(100, gene_count), loc=0, scale=1),\n",
        "                        columns=genes)\n",
        "diseased[\"state\"] = \"diseased\"\n",
        "patients = pd.concat([healthy, diseased], axis=0)"
      ]
    },
    {
      "cell_type": "code",
      "execution_count": null,
      "id": "IhcCWpMNrxYf",
      "metadata": {
        "colab": {
          "base_uri": "https://localhost:8080/",
          "height": 488
        },
        "id": "IhcCWpMNrxYf",
        "outputId": "dcfb7094-ec70-4ebb-98fe-58d59e31091f"
      },
      "outputs": [
        {
          "data": {
            "text/html": [
              "\n",
              "  <div id=\"df-28fc6973-12ba-4ef7-822c-412cffa5703e\">\n",
              "    <div class=\"colab-df-container\">\n",
              "      <div>\n",
              "<style scoped>\n",
              "    .dataframe tbody tr th:only-of-type {\n",
              "        vertical-align: middle;\n",
              "    }\n",
              "\n",
              "    .dataframe tbody tr th {\n",
              "        vertical-align: top;\n",
              "    }\n",
              "\n",
              "    .dataframe thead th {\n",
              "        text-align: right;\n",
              "    }\n",
              "</style>\n",
              "<table border=\"1\" class=\"dataframe\">\n",
              "  <thead>\n",
              "    <tr style=\"text-align: right;\">\n",
              "      <th></th>\n",
              "      <th>Gene0</th>\n",
              "      <th>Gene1</th>\n",
              "      <th>Gene2</th>\n",
              "      <th>Gene3</th>\n",
              "      <th>Gene4</th>\n",
              "      <th>Gene5</th>\n",
              "      <th>Gene6</th>\n",
              "      <th>Gene7</th>\n",
              "      <th>Gene8</th>\n",
              "      <th>Gene9</th>\n",
              "      <th>...</th>\n",
              "      <th>Gene9991</th>\n",
              "      <th>Gene9992</th>\n",
              "      <th>Gene9993</th>\n",
              "      <th>Gene9994</th>\n",
              "      <th>Gene9995</th>\n",
              "      <th>Gene9996</th>\n",
              "      <th>Gene9997</th>\n",
              "      <th>Gene9998</th>\n",
              "      <th>Gene9999</th>\n",
              "      <th>State</th>\n",
              "    </tr>\n",
              "  </thead>\n",
              "  <tbody>\n",
              "    <tr>\n",
              "      <th>0</th>\n",
              "      <td>1.529391</td>\n",
              "      <td>1.014255</td>\n",
              "      <td>-0.677856</td>\n",
              "      <td>-1.714047</td>\n",
              "      <td>0.320149</td>\n",
              "      <td>0.134628</td>\n",
              "      <td>0.630055</td>\n",
              "      <td>1.193929</td>\n",
              "      <td>0.331707</td>\n",
              "      <td>-0.289807</td>\n",
              "      <td>...</td>\n",
              "      <td>0.199950</td>\n",
              "      <td>-1.040145</td>\n",
              "      <td>0.868727</td>\n",
              "      <td>0.117556</td>\n",
              "      <td>0.084157</td>\n",
              "      <td>1.555072</td>\n",
              "      <td>-1.173177</td>\n",
              "      <td>0.604101</td>\n",
              "      <td>0.002602</td>\n",
              "      <td>H</td>\n",
              "    </tr>\n",
              "    <tr>\n",
              "      <th>1</th>\n",
              "      <td>0.877573</td>\n",
              "      <td>-1.857143</td>\n",
              "      <td>0.308792</td>\n",
              "      <td>-0.183361</td>\n",
              "      <td>-0.466325</td>\n",
              "      <td>1.103474</td>\n",
              "      <td>0.848353</td>\n",
              "      <td>1.036432</td>\n",
              "      <td>-0.756934</td>\n",
              "      <td>-0.339856</td>\n",
              "      <td>...</td>\n",
              "      <td>0.965889</td>\n",
              "      <td>-0.795000</td>\n",
              "      <td>-0.992720</td>\n",
              "      <td>0.533527</td>\n",
              "      <td>-0.763717</td>\n",
              "      <td>0.313005</td>\n",
              "      <td>0.988209</td>\n",
              "      <td>-0.273022</td>\n",
              "      <td>-1.557594</td>\n",
              "      <td>H</td>\n",
              "    </tr>\n",
              "    <tr>\n",
              "      <th>2</th>\n",
              "      <td>0.901893</td>\n",
              "      <td>-0.319947</td>\n",
              "      <td>-0.553359</td>\n",
              "      <td>-0.421082</td>\n",
              "      <td>0.388007</td>\n",
              "      <td>0.591844</td>\n",
              "      <td>-0.733813</td>\n",
              "      <td>0.512512</td>\n",
              "      <td>1.127015</td>\n",
              "      <td>-1.156327</td>\n",
              "      <td>...</td>\n",
              "      <td>0.057290</td>\n",
              "      <td>-1.600486</td>\n",
              "      <td>-0.413576</td>\n",
              "      <td>0.220014</td>\n",
              "      <td>-0.471751</td>\n",
              "      <td>-0.858201</td>\n",
              "      <td>-0.272750</td>\n",
              "      <td>0.450543</td>\n",
              "      <td>0.277158</td>\n",
              "      <td>H</td>\n",
              "    </tr>\n",
              "    <tr>\n",
              "      <th>3</th>\n",
              "      <td>3.368242</td>\n",
              "      <td>0.523476</td>\n",
              "      <td>0.670003</td>\n",
              "      <td>0.286038</td>\n",
              "      <td>1.849226</td>\n",
              "      <td>-0.414640</td>\n",
              "      <td>0.958905</td>\n",
              "      <td>-0.529891</td>\n",
              "      <td>-0.323062</td>\n",
              "      <td>1.552995</td>\n",
              "      <td>...</td>\n",
              "      <td>-0.823255</td>\n",
              "      <td>0.370024</td>\n",
              "      <td>-0.751351</td>\n",
              "      <td>1.588221</td>\n",
              "      <td>0.459690</td>\n",
              "      <td>0.237635</td>\n",
              "      <td>1.075232</td>\n",
              "      <td>0.784458</td>\n",
              "      <td>0.721085</td>\n",
              "      <td>H</td>\n",
              "    </tr>\n",
              "    <tr>\n",
              "      <th>4</th>\n",
              "      <td>0.150694</td>\n",
              "      <td>0.133889</td>\n",
              "      <td>-0.825000</td>\n",
              "      <td>-0.845802</td>\n",
              "      <td>-0.428369</td>\n",
              "      <td>1.572794</td>\n",
              "      <td>-0.749911</td>\n",
              "      <td>-0.768920</td>\n",
              "      <td>-1.365887</td>\n",
              "      <td>-0.035653</td>\n",
              "      <td>...</td>\n",
              "      <td>-0.670796</td>\n",
              "      <td>-1.151196</td>\n",
              "      <td>0.655322</td>\n",
              "      <td>0.196059</td>\n",
              "      <td>2.622790</td>\n",
              "      <td>0.456224</td>\n",
              "      <td>-0.385750</td>\n",
              "      <td>-1.397108</td>\n",
              "      <td>-0.698283</td>\n",
              "      <td>H</td>\n",
              "    </tr>\n",
              "    <tr>\n",
              "      <th>...</th>\n",
              "      <td>...</td>\n",
              "      <td>...</td>\n",
              "      <td>...</td>\n",
              "      <td>...</td>\n",
              "      <td>...</td>\n",
              "      <td>...</td>\n",
              "      <td>...</td>\n",
              "      <td>...</td>\n",
              "      <td>...</td>\n",
              "      <td>...</td>\n",
              "      <td>...</td>\n",
              "      <td>...</td>\n",
              "      <td>...</td>\n",
              "      <td>...</td>\n",
              "      <td>...</td>\n",
              "      <td>...</td>\n",
              "      <td>...</td>\n",
              "      <td>...</td>\n",
              "      <td>...</td>\n",
              "      <td>...</td>\n",
              "      <td>...</td>\n",
              "    </tr>\n",
              "    <tr>\n",
              "      <th>95</th>\n",
              "      <td>0.597411</td>\n",
              "      <td>0.408063</td>\n",
              "      <td>-0.788861</td>\n",
              "      <td>0.577543</td>\n",
              "      <td>-1.045190</td>\n",
              "      <td>-0.810603</td>\n",
              "      <td>-0.205111</td>\n",
              "      <td>-2.048265</td>\n",
              "      <td>1.781589</td>\n",
              "      <td>0.751556</td>\n",
              "      <td>...</td>\n",
              "      <td>-0.344598</td>\n",
              "      <td>-1.328481</td>\n",
              "      <td>-0.672177</td>\n",
              "      <td>0.497124</td>\n",
              "      <td>0.448152</td>\n",
              "      <td>0.011227</td>\n",
              "      <td>2.354065</td>\n",
              "      <td>0.424140</td>\n",
              "      <td>-0.717599</td>\n",
              "      <td>D</td>\n",
              "    </tr>\n",
              "    <tr>\n",
              "      <th>96</th>\n",
              "      <td>-0.673818</td>\n",
              "      <td>0.396731</td>\n",
              "      <td>-0.255417</td>\n",
              "      <td>-0.367822</td>\n",
              "      <td>1.893482</td>\n",
              "      <td>0.177508</td>\n",
              "      <td>0.445613</td>\n",
              "      <td>1.079955</td>\n",
              "      <td>-0.504922</td>\n",
              "      <td>-0.930385</td>\n",
              "      <td>...</td>\n",
              "      <td>0.529042</td>\n",
              "      <td>0.858541</td>\n",
              "      <td>0.520908</td>\n",
              "      <td>1.096308</td>\n",
              "      <td>1.533732</td>\n",
              "      <td>-0.094394</td>\n",
              "      <td>-0.518913</td>\n",
              "      <td>-0.154322</td>\n",
              "      <td>0.550603</td>\n",
              "      <td>D</td>\n",
              "    </tr>\n",
              "    <tr>\n",
              "      <th>97</th>\n",
              "      <td>0.401149</td>\n",
              "      <td>-0.380043</td>\n",
              "      <td>0.502841</td>\n",
              "      <td>-0.835978</td>\n",
              "      <td>-0.106970</td>\n",
              "      <td>1.343870</td>\n",
              "      <td>-1.116521</td>\n",
              "      <td>-1.010059</td>\n",
              "      <td>0.606624</td>\n",
              "      <td>1.190096</td>\n",
              "      <td>...</td>\n",
              "      <td>1.399937</td>\n",
              "      <td>-0.357309</td>\n",
              "      <td>2.009514</td>\n",
              "      <td>1.159233</td>\n",
              "      <td>-0.126914</td>\n",
              "      <td>0.004023</td>\n",
              "      <td>-0.323366</td>\n",
              "      <td>-0.338984</td>\n",
              "      <td>-1.136042</td>\n",
              "      <td>D</td>\n",
              "    </tr>\n",
              "    <tr>\n",
              "      <th>98</th>\n",
              "      <td>-0.459351</td>\n",
              "      <td>0.225624</td>\n",
              "      <td>0.724269</td>\n",
              "      <td>0.685111</td>\n",
              "      <td>-0.172752</td>\n",
              "      <td>0.703707</td>\n",
              "      <td>0.494737</td>\n",
              "      <td>1.199367</td>\n",
              "      <td>-0.814784</td>\n",
              "      <td>0.398802</td>\n",
              "      <td>...</td>\n",
              "      <td>-0.198302</td>\n",
              "      <td>-0.321098</td>\n",
              "      <td>-0.037649</td>\n",
              "      <td>-0.787498</td>\n",
              "      <td>0.257670</td>\n",
              "      <td>0.980257</td>\n",
              "      <td>-0.357917</td>\n",
              "      <td>-1.227620</td>\n",
              "      <td>0.014098</td>\n",
              "      <td>D</td>\n",
              "    </tr>\n",
              "    <tr>\n",
              "      <th>99</th>\n",
              "      <td>1.481041</td>\n",
              "      <td>0.380219</td>\n",
              "      <td>-0.515004</td>\n",
              "      <td>1.755775</td>\n",
              "      <td>1.099779</td>\n",
              "      <td>-0.922312</td>\n",
              "      <td>-1.304494</td>\n",
              "      <td>-1.564661</td>\n",
              "      <td>-0.229269</td>\n",
              "      <td>0.441036</td>\n",
              "      <td>...</td>\n",
              "      <td>0.619076</td>\n",
              "      <td>1.203278</td>\n",
              "      <td>-1.236970</td>\n",
              "      <td>1.341601</td>\n",
              "      <td>-0.637592</td>\n",
              "      <td>-0.271643</td>\n",
              "      <td>-1.721361</td>\n",
              "      <td>0.516198</td>\n",
              "      <td>0.392007</td>\n",
              "      <td>D</td>\n",
              "    </tr>\n",
              "  </tbody>\n",
              "</table>\n",
              "<p>200 rows × 10001 columns</p>\n",
              "</div>\n",
              "      <button class=\"colab-df-convert\" onclick=\"convertToInteractive('df-28fc6973-12ba-4ef7-822c-412cffa5703e')\"\n",
              "              title=\"Convert this dataframe to an interactive table.\"\n",
              "              style=\"display:none;\">\n",
              "        \n",
              "  <svg xmlns=\"http://www.w3.org/2000/svg\" height=\"24px\"viewBox=\"0 0 24 24\"\n",
              "       width=\"24px\">\n",
              "    <path d=\"M0 0h24v24H0V0z\" fill=\"none\"/>\n",
              "    <path d=\"M18.56 5.44l.94 2.06.94-2.06 2.06-.94-2.06-.94-.94-2.06-.94 2.06-2.06.94zm-11 1L8.5 8.5l.94-2.06 2.06-.94-2.06-.94L8.5 2.5l-.94 2.06-2.06.94zm10 10l.94 2.06.94-2.06 2.06-.94-2.06-.94-.94-2.06-.94 2.06-2.06.94z\"/><path d=\"M17.41 7.96l-1.37-1.37c-.4-.4-.92-.59-1.43-.59-.52 0-1.04.2-1.43.59L10.3 9.45l-7.72 7.72c-.78.78-.78 2.05 0 2.83L4 21.41c.39.39.9.59 1.41.59.51 0 1.02-.2 1.41-.59l7.78-7.78 2.81-2.81c.8-.78.8-2.07 0-2.86zM5.41 20L4 18.59l7.72-7.72 1.47 1.35L5.41 20z\"/>\n",
              "  </svg>\n",
              "      </button>\n",
              "      \n",
              "  <style>\n",
              "    .colab-df-container {\n",
              "      display:flex;\n",
              "      flex-wrap:wrap;\n",
              "      gap: 12px;\n",
              "    }\n",
              "\n",
              "    .colab-df-convert {\n",
              "      background-color: #E8F0FE;\n",
              "      border: none;\n",
              "      border-radius: 50%;\n",
              "      cursor: pointer;\n",
              "      display: none;\n",
              "      fill: #1967D2;\n",
              "      height: 32px;\n",
              "      padding: 0 0 0 0;\n",
              "      width: 32px;\n",
              "    }\n",
              "\n",
              "    .colab-df-convert:hover {\n",
              "      background-color: #E2EBFA;\n",
              "      box-shadow: 0px 1px 2px rgba(60, 64, 67, 0.3), 0px 1px 3px 1px rgba(60, 64, 67, 0.15);\n",
              "      fill: #174EA6;\n",
              "    }\n",
              "\n",
              "    [theme=dark] .colab-df-convert {\n",
              "      background-color: #3B4455;\n",
              "      fill: #D2E3FC;\n",
              "    }\n",
              "\n",
              "    [theme=dark] .colab-df-convert:hover {\n",
              "      background-color: #434B5C;\n",
              "      box-shadow: 0px 1px 3px 1px rgba(0, 0, 0, 0.15);\n",
              "      filter: drop-shadow(0px 1px 2px rgba(0, 0, 0, 0.3));\n",
              "      fill: #FFFFFF;\n",
              "    }\n",
              "  </style>\n",
              "\n",
              "      <script>\n",
              "        const buttonEl =\n",
              "          document.querySelector('#df-28fc6973-12ba-4ef7-822c-412cffa5703e button.colab-df-convert');\n",
              "        buttonEl.style.display =\n",
              "          google.colab.kernel.accessAllowed ? 'block' : 'none';\n",
              "\n",
              "        async function convertToInteractive(key) {\n",
              "          const element = document.querySelector('#df-28fc6973-12ba-4ef7-822c-412cffa5703e');\n",
              "          const dataTable =\n",
              "            await google.colab.kernel.invokeFunction('convertToInteractive',\n",
              "                                                     [key], {});\n",
              "          if (!dataTable) return;\n",
              "\n",
              "          const docLinkHtml = 'Like what you see? Visit the ' +\n",
              "            '<a target=\"_blank\" href=https://colab.research.google.com/notebooks/data_table.ipynb>data table notebook</a>'\n",
              "            + ' to learn more about interactive tables.';\n",
              "          element.innerHTML = '';\n",
              "          dataTable['output_type'] = 'display_data';\n",
              "          await google.colab.output.renderOutput(dataTable, element);\n",
              "          const docLink = document.createElement('div');\n",
              "          docLink.innerHTML = docLinkHtml;\n",
              "          element.appendChild(docLink);\n",
              "        }\n",
              "      </script>\n",
              "    </div>\n",
              "  </div>\n",
              "  "
            ],
            "text/plain": [
              "       Gene0     Gene1     Gene2     Gene3     Gene4     Gene5     Gene6  \\\n",
              "0   1.529391  1.014255 -0.677856 -1.714047  0.320149  0.134628  0.630055   \n",
              "1   0.877573 -1.857143  0.308792 -0.183361 -0.466325  1.103474  0.848353   \n",
              "2   0.901893 -0.319947 -0.553359 -0.421082  0.388007  0.591844 -0.733813   \n",
              "3   3.368242  0.523476  0.670003  0.286038  1.849226 -0.414640  0.958905   \n",
              "4   0.150694  0.133889 -0.825000 -0.845802 -0.428369  1.572794 -0.749911   \n",
              "..       ...       ...       ...       ...       ...       ...       ...   \n",
              "95  0.597411  0.408063 -0.788861  0.577543 -1.045190 -0.810603 -0.205111   \n",
              "96 -0.673818  0.396731 -0.255417 -0.367822  1.893482  0.177508  0.445613   \n",
              "97  0.401149 -0.380043  0.502841 -0.835978 -0.106970  1.343870 -1.116521   \n",
              "98 -0.459351  0.225624  0.724269  0.685111 -0.172752  0.703707  0.494737   \n",
              "99  1.481041  0.380219 -0.515004  1.755775  1.099779 -0.922312 -1.304494   \n",
              "\n",
              "       Gene7     Gene8     Gene9  ...  Gene9991  Gene9992  Gene9993  Gene9994  \\\n",
              "0   1.193929  0.331707 -0.289807  ...  0.199950 -1.040145  0.868727  0.117556   \n",
              "1   1.036432 -0.756934 -0.339856  ...  0.965889 -0.795000 -0.992720  0.533527   \n",
              "2   0.512512  1.127015 -1.156327  ...  0.057290 -1.600486 -0.413576  0.220014   \n",
              "3  -0.529891 -0.323062  1.552995  ... -0.823255  0.370024 -0.751351  1.588221   \n",
              "4  -0.768920 -1.365887 -0.035653  ... -0.670796 -1.151196  0.655322  0.196059   \n",
              "..       ...       ...       ...  ...       ...       ...       ...       ...   \n",
              "95 -2.048265  1.781589  0.751556  ... -0.344598 -1.328481 -0.672177  0.497124   \n",
              "96  1.079955 -0.504922 -0.930385  ...  0.529042  0.858541  0.520908  1.096308   \n",
              "97 -1.010059  0.606624  1.190096  ...  1.399937 -0.357309  2.009514  1.159233   \n",
              "98  1.199367 -0.814784  0.398802  ... -0.198302 -0.321098 -0.037649 -0.787498   \n",
              "99 -1.564661 -0.229269  0.441036  ...  0.619076  1.203278 -1.236970  1.341601   \n",
              "\n",
              "    Gene9995  Gene9996  Gene9997  Gene9998  Gene9999  State  \n",
              "0   0.084157  1.555072 -1.173177  0.604101  0.002602      H  \n",
              "1  -0.763717  0.313005  0.988209 -0.273022 -1.557594      H  \n",
              "2  -0.471751 -0.858201 -0.272750  0.450543  0.277158      H  \n",
              "3   0.459690  0.237635  1.075232  0.784458  0.721085      H  \n",
              "4   2.622790  0.456224 -0.385750 -1.397108 -0.698283      H  \n",
              "..       ...       ...       ...       ...       ...    ...  \n",
              "95  0.448152  0.011227  2.354065  0.424140 -0.717599      D  \n",
              "96  1.533732 -0.094394 -0.518913 -0.154322  0.550603      D  \n",
              "97 -0.126914  0.004023 -0.323366 -0.338984 -1.136042      D  \n",
              "98  0.257670  0.980257 -0.357917 -1.227620  0.014098      D  \n",
              "99 -0.637592 -0.271643 -1.721361  0.516198  0.392007      D  \n",
              "\n",
              "[200 rows x 10001 columns]"
            ]
          },
          "execution_count": 163,
          "metadata": {},
          "output_type": "execute_result"
        }
      ],
      "source": [
        "patients"
      ]
    },
    {
      "cell_type": "code",
      "execution_count": null,
      "id": "YrMCRqK7rxYg",
      "metadata": {
        "id": "YrMCRqK7rxYg"
      },
      "outputs": [],
      "source": [
        "X = patients.drop(\"state\", axis=1)\n",
        "y = patients[\"state\"] == \"diseased\""
      ]
    },
    {
      "cell_type": "markdown",
      "id": "P3GZIOnHujZe",
      "metadata": {
        "id": "P3GZIOnHujZe"
      },
      "source": [
        "Произведем отбор 10 _наилучших_ признаков:"
      ]
    },
    {
      "cell_type": "code",
      "execution_count": null,
      "id": "4MA1ndqRrxYg",
      "metadata": {
        "id": "4MA1ndqRrxYg"
      },
      "outputs": [],
      "source": [
        "top_k = 10\n",
        "\n",
        "diffs = X[y].mean(axis=0) - X[~y].mean(axis=0)\n",
        "top = np.abs(diffs).sort_values(ascending=False)[0:top_k]\n",
        "genes = top.index"
      ]
    },
    {
      "cell_type": "code",
      "execution_count": null,
      "id": "hSmemUnyrxYg",
      "metadata": {
        "id": "hSmemUnyrxYg"
      },
      "outputs": [],
      "source": [
        "X_selected = X[genes]"
      ]
    },
    {
      "cell_type": "code",
      "execution_count": null,
      "id": "aPz6q-JCrxYg",
      "metadata": {
        "id": "aPz6q-JCrxYg"
      },
      "outputs": [],
      "source": [
        "from sklearn.model_selection import train_test_split\n",
        "\n",
        "X_train, X_test, y_train, y_test = train_test_split(X_selected, y, test_size=0.3)"
      ]
    },
    {
      "cell_type": "code",
      "execution_count": null,
      "id": "PYPxRhkPrxYh",
      "metadata": {
        "colab": {
          "base_uri": "https://localhost:8080/"
        },
        "id": "PYPxRhkPrxYh",
        "outputId": "294da006-8cac-493d-bf90-190d58fd7e8a"
      },
      "outputs": [
        {
          "data": {
            "text/plain": [
              "LogisticRegression()"
            ]
          },
          "execution_count": 175,
          "metadata": {},
          "output_type": "execute_result"
        }
      ],
      "source": [
        "from sklearn.linear_model import LogisticRegression\n",
        "\n",
        "model = LogisticRegression()\n",
        "model.fit(X_train, y_train)"
      ]
    },
    {
      "cell_type": "code",
      "execution_count": null,
      "id": "QNnwp4_irxYh",
      "metadata": {
        "colab": {
          "base_uri": "https://localhost:8080/"
        },
        "id": "QNnwp4_irxYh",
        "outputId": "c633921e-f858-48af-9b99-93cadc3e93de"
      },
      "outputs": [
        {
          "name": "stdout",
          "output_type": "stream",
          "text": [
            "Train quality:\n",
            "ROCAUC: 0.874\n",
            "PRAUC: 0.879\n",
            "Accuracy: 0.800\n"
          ]
        }
      ],
      "source": [
        "from sklearn.metrics import roc_auc_score, average_precision_score, accuracy_score\n",
        "\n",
        "y_train_pred = model.predict_proba(X_train)[:,1]\n",
        "\n",
        "train_rocauc = roc_auc_score(y_score=y_train_pred, y_true=y_train)\n",
        "train_prauc = average_precision_score(y_score=y_train_pred, y_true=y_train)\n",
        "train_accuracy = accuracy_score(y_pred=y_train_pred > 0.5, y_true=y_train)\n",
        "\n",
        "print(\"Train quality:\")\n",
        "print(f\"ROCAUC: {train_rocauc:.03f}\")\n",
        "print(f\"PRAUC: {train_prauc:.03f}\")\n",
        "print(f\"Accuracy: {train_accuracy:.03f}\")"
      ]
    },
    {
      "cell_type": "code",
      "execution_count": null,
      "id": "LO2hyM4erxYh",
      "metadata": {
        "colab": {
          "base_uri": "https://localhost:8080/"
        },
        "id": "LO2hyM4erxYh",
        "outputId": "5accef72-9d12-456c-94c1-698bb1fe81c2"
      },
      "outputs": [
        {
          "name": "stdout",
          "output_type": "stream",
          "text": [
            "Test quality:\n",
            "ROCAUC: 0.885\n",
            "PRAUC: 0.883\n",
            "Accuracy: 0.750\n"
          ]
        }
      ],
      "source": [
        "y_test_pred = model.predict_proba(X_test)[:,1]\n",
        "\n",
        "train_rocauc = roc_auc_score(y_score=y_test_pred, y_true=y_test)\n",
        "train_prauc = average_precision_score(y_score=y_test_pred, y_true=y_test)\n",
        "train_accuracy = accuracy_score(y_pred=y_test_pred > 0.5, y_true=y_test)\n",
        "\n",
        "print(\"Test quality:\")\n",
        "print(f\"ROCAUC: {train_rocauc:.03f}\")\n",
        "print(f\"PRAUC: {train_prauc:.03f}\")\n",
        "print(f\"Accuracy: {train_accuracy:.03f}\")"
      ]
    },
    {
      "cell_type": "markdown",
      "id": "-n3UfWpCrxYi",
      "metadata": {
        "id": "-n3UfWpCrxYi"
      },
      "source": [
        "Исходя из процедуры генерации, различий между группами быть не должно. Тем не менее, модель показывает неплохое качество на тесте. Объясните природу наблюдаемого эффекта."
      ]
    },
    {
      "cell_type": "code",
      "execution_count": null,
      "id": "oVoJFUkxrxYi",
      "metadata": {
        "id": "oVoJFUkxrxYi"
      },
      "outputs": [],
      "source": []
    },
    {
      "cell_type": "markdown",
      "id": "3nP2QWQhrxYi",
      "metadata": {
        "id": "3nP2QWQhrxYi"
      },
      "source": [
        "Теперь **воспользуемся встроенным в scikit-learn методом выбора признаков**:"
      ]
    },
    {
      "cell_type": "code",
      "execution_count": null,
      "id": "7gBcL9ftrxYi",
      "metadata": {
        "id": "7gBcL9ftrxYi"
      },
      "outputs": [],
      "source": [
        "from sklearn.feature_selection import SelectKBest, SelectFdr, f_classif"
      ]
    },
    {
      "cell_type": "code",
      "execution_count": null,
      "id": "nDRIW_3KrxYj",
      "metadata": {
        "colab": {
          "base_uri": "https://localhost:8080/"
        },
        "id": "nDRIW_3KrxYj",
        "outputId": "00b15173-3b3e-49de-aeed-0de9feceb259"
      },
      "outputs": [
        {
          "name": "stderr",
          "output_type": "stream",
          "text": [
            "/usr/local/lib/python3.7/dist-packages/sklearn/feature_selection/_base.py:99: UserWarning: No features were selected: either the data is too noisy or the selection test too strict.\n",
            "  UserWarning,\n"
          ]
        }
      ],
      "source": [
        "X_selected = SelectKBest(f_classif, k=10).fit_transform(X, y)"
      ]
    },
    {
      "cell_type": "markdown",
      "id": "NLVfPCf4rxYj",
      "metadata": {
        "id": "NLVfPCf4rxYj"
      },
      "source": [
        "**Повторите обучение модели** на признаках, отобранных стандартным методом sklearn. Объясните полученный результат."
      ]
    },
    {
      "cell_type": "code",
      "execution_count": null,
      "id": "QrmAGUGNE7fP",
      "metadata": {
        "id": "QrmAGUGNE7fP"
      },
      "outputs": [],
      "source": []
    },
    {
      "cell_type": "markdown",
      "id": "KFIpJsQTxH23",
      "metadata": {
        "id": "KFIpJsQTxH23"
      },
      "source": [
        "**Дополнительно**: Воспользуйтесь методом `SelectFdr` для отбора признаков. Что такое FDR?"
      ]
    },
    {
      "cell_type": "code",
      "execution_count": null,
      "id": "M9h9G1olxRRE",
      "metadata": {
        "id": "M9h9G1olxRRE"
      },
      "outputs": [],
      "source": []
    },
    {
      "cell_type": "markdown",
      "id": "8e230a47-c382-40eb-8512-57353a4a8df0",
      "metadata": {
        "id": "8e230a47-c382-40eb-8512-57353a4a8df0"
      },
      "source": [
        "---"
      ]
    }
  ],
  "metadata": {
    "colab": {
      "collapsed_sections": [],
      "provenance": [],
      "toc_visible": true
    },
    "kernelspec": {
      "display_name": "Python 3.8.13 ('base')",
      "language": "python",
      "name": "python3"
    },
    "language_info": {
      "codemirror_mode": {
        "name": "ipython",
        "version": 3
      },
      "file_extension": ".py",
      "mimetype": "text/x-python",
      "name": "python",
      "nbconvert_exporter": "python",
      "pygments_lexer": "ipython3",
      "version": "3.8.13"
    },
    "vscode": {
      "interpreter": {
        "hash": "57818da3ee1fd01d36d722dc5d70d8ee0174abb1fbd688f676d98834109492dc"
      }
    }
  },
  "nbformat": 4,
  "nbformat_minor": 5
}
