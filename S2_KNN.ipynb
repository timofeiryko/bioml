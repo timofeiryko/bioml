{
  "cells": [
    {
      "cell_type": "markdown",
      "id": "bb9cd518-2ed8-495f-bea5-6c1c701708c6",
      "metadata": {
        "id": "bb9cd518-2ed8-495f-bea5-6c1c701708c6"
      },
      "source": [
        "# Машинное обучение в биологии\n",
        "\n",
        "### Семинар 2: Основные понятия и простейшая модель машинного обучения. Классификатор KNN. \n",
        "\n",
        "#### Учимся на геномных эмбеддингах. Работа с веществами в Python. Классификация веществ и проблемы разбиения их на обучение и тест."
      ]
    },
    {
      "cell_type": "code",
      "execution_count": 1,
      "id": "654ff1e0-8eac-452c-a57e-66501bb1a884",
      "metadata": {
        "id": "654ff1e0-8eac-452c-a57e-66501bb1a884"
      },
      "outputs": [],
      "source": [
        "import numpy as np\n",
        "import pandas as pd\n",
        "\n",
        "import matplotlib.pyplot as plt\n",
        "import seaborn as sns\n",
        "\n",
        "sns.set()\n",
        "sns.set_style(\"whitegrid\")"
      ]
    },
    {
      "cell_type": "markdown",
      "id": "89d5e03d-32f0-48ab-9974-1bc2327f6ede",
      "metadata": {
        "id": "89d5e03d-32f0-48ab-9974-1bc2327f6ede"
      },
      "source": [
        "### Задача 1: Предсказание рака молочной железы"
      ]
    },
    {
      "cell_type": "markdown",
      "id": "82a27b22-3e1c-484a-bd21-c231de7bb52a",
      "metadata": {
        "id": "82a27b22-3e1c-484a-bd21-c231de7bb52a"
      },
      "source": [
        "В этой задаче предлагается произвести предсказание рака молочной железы на известном <a href=\"https://archive.ics.uci.edu/ml/datasets/Breast+Cancer+Wisconsin+(Diagnostic)\">датасете</a> UCI ML Breast Cancer Wisconsin (Diagnostic) dataset."
      ]
    },
    {
      "cell_type": "code",
      "execution_count": 2,
      "id": "S22zU4DvNk6h",
      "metadata": {
        "id": "S22zU4DvNk6h"
      },
      "outputs": [],
      "source": [
        "from sklearn.datasets import load_breast_cancer\n",
        "data = load_breast_cancer(as_frame=True)"
      ]
    },
    {
      "cell_type": "code",
      "execution_count": 4,
      "id": "S2tmzCyJYhys",
      "metadata": {
        "id": "S2tmzCyJYhys"
      },
      "outputs": [
        {
          "name": "stdout",
          "output_type": "stream",
          "text": [
            ".. _breast_cancer_dataset:\n",
            "\n",
            "Breast cancer wisconsin (diagnostic) dataset\n",
            "--------------------------------------------\n",
            "\n",
            "**Data Set Characteristics:**\n",
            "\n",
            "    :Number of Instances: 569\n",
            "\n",
            "    :Number of Attributes: 30 numeric, predictive attributes and the class\n",
            "\n",
            "    :Attribute Information:\n",
            "        - radius (mean of distances from center to points on the perimeter)\n",
            "        - texture (standard deviation of gray-scale values)\n",
            "        - perimeter\n",
            "        - area\n",
            "        - smoothness (local variation in radius lengths)\n",
            "        - compactness (perimeter^2 / area - 1.0)\n",
            "        - concavity (severity of concave portions of the contour)\n",
            "        - concave points (number of concave portions of the contour)\n",
            "        - symmetry\n",
            "        - fractal dimension (\"coastline approximation\" - 1)\n",
            "\n",
            "        The mean, standard error, and \"worst\" or largest (mean of the three\n",
            "        worst/largest values) of these features were computed for each image,\n",
            "        resulting in 30 features.  For instance, field 0 is Mean Radius, field\n",
            "        10 is Radius SE, field 20 is Worst Radius.\n",
            "\n",
            "        - class:\n",
            "                - WDBC-Malignant\n",
            "                - WDBC-Benign\n",
            "\n",
            "    :Summary Statistics:\n",
            "\n",
            "    ===================================== ====== ======\n",
            "                                           Min    Max\n",
            "    ===================================== ====== ======\n",
            "    radius (mean):                        6.981  28.11\n",
            "    texture (mean):                       9.71   39.28\n",
            "    perimeter (mean):                     43.79  188.5\n",
            "    area (mean):                          143.5  2501.0\n",
            "    smoothness (mean):                    0.053  0.163\n",
            "    compactness (mean):                   0.019  0.345\n",
            "    concavity (mean):                     0.0    0.427\n",
            "    concave points (mean):                0.0    0.201\n",
            "    symmetry (mean):                      0.106  0.304\n",
            "    fractal dimension (mean):             0.05   0.097\n",
            "    radius (standard error):              0.112  2.873\n",
            "    texture (standard error):             0.36   4.885\n",
            "    perimeter (standard error):           0.757  21.98\n",
            "    area (standard error):                6.802  542.2\n",
            "    smoothness (standard error):          0.002  0.031\n",
            "    compactness (standard error):         0.002  0.135\n",
            "    concavity (standard error):           0.0    0.396\n",
            "    concave points (standard error):      0.0    0.053\n",
            "    symmetry (standard error):            0.008  0.079\n",
            "    fractal dimension (standard error):   0.001  0.03\n",
            "    radius (worst):                       7.93   36.04\n",
            "    texture (worst):                      12.02  49.54\n",
            "    perimeter (worst):                    50.41  251.2\n",
            "    area (worst):                         185.2  4254.0\n",
            "    smoothness (worst):                   0.071  0.223\n",
            "    compactness (worst):                  0.027  1.058\n",
            "    concavity (worst):                    0.0    1.252\n",
            "    concave points (worst):               0.0    0.291\n",
            "    symmetry (worst):                     0.156  0.664\n",
            "    fractal dimension (worst):            0.055  0.208\n",
            "    ===================================== ====== ======\n",
            "\n",
            "    :Missing Attribute Values: None\n",
            "\n",
            "    :Class Distribution: 212 - Malignant, 357 - Benign\n",
            "\n",
            "    :Creator:  Dr. William H. Wolberg, W. Nick Street, Olvi L. Mangasarian\n",
            "\n",
            "    :Donor: Nick Street\n",
            "\n",
            "    :Date: November, 1995\n",
            "\n",
            "This is a copy of UCI ML Breast Cancer Wisconsin (Diagnostic) datasets.\n",
            "https://goo.gl/U2Uwz2\n",
            "\n",
            "Features are computed from a digitized image of a fine needle\n",
            "aspirate (FNA) of a breast mass.  They describe\n",
            "characteristics of the cell nuclei present in the image.\n",
            "\n",
            "Separating plane described above was obtained using\n",
            "Multisurface Method-Tree (MSM-T) [K. P. Bennett, \"Decision Tree\n",
            "Construction Via Linear Programming.\" Proceedings of the 4th\n",
            "Midwest Artificial Intelligence and Cognitive Science Society,\n",
            "pp. 97-101, 1992], a classification method which uses linear\n",
            "programming to construct a decision tree.  Relevant features\n",
            "were selected using an exhaustive search in the space of 1-4\n",
            "features and 1-3 separating planes.\n",
            "\n",
            "The actual linear program used to obtain the separating plane\n",
            "in the 3-dimensional space is that described in:\n",
            "[K. P. Bennett and O. L. Mangasarian: \"Robust Linear\n",
            "Programming Discrimination of Two Linearly Inseparable Sets\",\n",
            "Optimization Methods and Software 1, 1992, 23-34].\n",
            "\n",
            "This database is also available through the UW CS ftp server:\n",
            "\n",
            "ftp ftp.cs.wisc.edu\n",
            "cd math-prog/cpo-dataset/machine-learn/WDBC/\n",
            "\n",
            ".. topic:: References\n",
            "\n",
            "   - W.N. Street, W.H. Wolberg and O.L. Mangasarian. Nuclear feature extraction \n",
            "     for breast tumor diagnosis. IS&T/SPIE 1993 International Symposium on \n",
            "     Electronic Imaging: Science and Technology, volume 1905, pages 861-870,\n",
            "     San Jose, CA, 1993.\n",
            "   - O.L. Mangasarian, W.N. Street and W.H. Wolberg. Breast cancer diagnosis and \n",
            "     prognosis via linear programming. Operations Research, 43(4), pages 570-577, \n",
            "     July-August 1995.\n",
            "   - W.H. Wolberg, W.N. Street, and O.L. Mangasarian. Machine learning techniques\n",
            "     to diagnose breast cancer from fine-needle aspirates. Cancer Letters 77 (1994) \n",
            "     163-171.\n"
          ]
        }
      ],
      "source": [
        "print(data.DESCR)"
      ]
    },
    {
      "cell_type": "markdown",
      "id": "22d78c75-e3bf-435c-8b16-7cf21ff153f2",
      "metadata": {
        "id": "22d78c75-e3bf-435c-8b16-7cf21ff153f2"
      },
      "source": [
        "Датасет загружен за вас, определены `X` и `y`."
      ]
    },
    {
      "cell_type": "code",
      "execution_count": 5,
      "id": "9da660ce-7081-41ca-a067-c60c625b7f4b",
      "metadata": {
        "colab": {
          "base_uri": "https://localhost:8080/",
          "height": 272
        },
        "id": "9da660ce-7081-41ca-a067-c60c625b7f4b",
        "outputId": "3a646f08-ff6d-414f-a8fb-29c067944202"
      },
      "outputs": [
        {
          "data": {
            "text/html": [
              "<div>\n",
              "<style scoped>\n",
              "    .dataframe tbody tr th:only-of-type {\n",
              "        vertical-align: middle;\n",
              "    }\n",
              "\n",
              "    .dataframe tbody tr th {\n",
              "        vertical-align: top;\n",
              "    }\n",
              "\n",
              "    .dataframe thead th {\n",
              "        text-align: right;\n",
              "    }\n",
              "</style>\n",
              "<table border=\"1\" class=\"dataframe\">\n",
              "  <thead>\n",
              "    <tr style=\"text-align: right;\">\n",
              "      <th></th>\n",
              "      <th>mean radius</th>\n",
              "      <th>mean texture</th>\n",
              "      <th>mean perimeter</th>\n",
              "      <th>mean area</th>\n",
              "      <th>mean smoothness</th>\n",
              "      <th>mean compactness</th>\n",
              "      <th>mean concavity</th>\n",
              "      <th>mean concave points</th>\n",
              "      <th>mean symmetry</th>\n",
              "      <th>mean fractal dimension</th>\n",
              "      <th>...</th>\n",
              "      <th>worst radius</th>\n",
              "      <th>worst texture</th>\n",
              "      <th>worst perimeter</th>\n",
              "      <th>worst area</th>\n",
              "      <th>worst smoothness</th>\n",
              "      <th>worst compactness</th>\n",
              "      <th>worst concavity</th>\n",
              "      <th>worst concave points</th>\n",
              "      <th>worst symmetry</th>\n",
              "      <th>worst fractal dimension</th>\n",
              "    </tr>\n",
              "  </thead>\n",
              "  <tbody>\n",
              "    <tr>\n",
              "      <th>0</th>\n",
              "      <td>17.99</td>\n",
              "      <td>10.38</td>\n",
              "      <td>122.8</td>\n",
              "      <td>1001.0</td>\n",
              "      <td>0.11840</td>\n",
              "      <td>0.27760</td>\n",
              "      <td>0.3001</td>\n",
              "      <td>0.14710</td>\n",
              "      <td>0.2419</td>\n",
              "      <td>0.07871</td>\n",
              "      <td>...</td>\n",
              "      <td>25.38</td>\n",
              "      <td>17.33</td>\n",
              "      <td>184.6</td>\n",
              "      <td>2019.0</td>\n",
              "      <td>0.1622</td>\n",
              "      <td>0.6656</td>\n",
              "      <td>0.7119</td>\n",
              "      <td>0.2654</td>\n",
              "      <td>0.4601</td>\n",
              "      <td>0.11890</td>\n",
              "    </tr>\n",
              "    <tr>\n",
              "      <th>1</th>\n",
              "      <td>20.57</td>\n",
              "      <td>17.77</td>\n",
              "      <td>132.9</td>\n",
              "      <td>1326.0</td>\n",
              "      <td>0.08474</td>\n",
              "      <td>0.07864</td>\n",
              "      <td>0.0869</td>\n",
              "      <td>0.07017</td>\n",
              "      <td>0.1812</td>\n",
              "      <td>0.05667</td>\n",
              "      <td>...</td>\n",
              "      <td>24.99</td>\n",
              "      <td>23.41</td>\n",
              "      <td>158.8</td>\n",
              "      <td>1956.0</td>\n",
              "      <td>0.1238</td>\n",
              "      <td>0.1866</td>\n",
              "      <td>0.2416</td>\n",
              "      <td>0.1860</td>\n",
              "      <td>0.2750</td>\n",
              "      <td>0.08902</td>\n",
              "    </tr>\n",
              "    <tr>\n",
              "      <th>2</th>\n",
              "      <td>19.69</td>\n",
              "      <td>21.25</td>\n",
              "      <td>130.0</td>\n",
              "      <td>1203.0</td>\n",
              "      <td>0.10960</td>\n",
              "      <td>0.15990</td>\n",
              "      <td>0.1974</td>\n",
              "      <td>0.12790</td>\n",
              "      <td>0.2069</td>\n",
              "      <td>0.05999</td>\n",
              "      <td>...</td>\n",
              "      <td>23.57</td>\n",
              "      <td>25.53</td>\n",
              "      <td>152.5</td>\n",
              "      <td>1709.0</td>\n",
              "      <td>0.1444</td>\n",
              "      <td>0.4245</td>\n",
              "      <td>0.4504</td>\n",
              "      <td>0.2430</td>\n",
              "      <td>0.3613</td>\n",
              "      <td>0.08758</td>\n",
              "    </tr>\n",
              "  </tbody>\n",
              "</table>\n",
              "<p>3 rows × 30 columns</p>\n",
              "</div>"
            ],
            "text/plain": [
              "   mean radius  mean texture  mean perimeter  mean area  mean smoothness  \\\n",
              "0        17.99         10.38           122.8     1001.0          0.11840   \n",
              "1        20.57         17.77           132.9     1326.0          0.08474   \n",
              "2        19.69         21.25           130.0     1203.0          0.10960   \n",
              "\n",
              "   mean compactness  mean concavity  mean concave points  mean symmetry  \\\n",
              "0           0.27760          0.3001              0.14710         0.2419   \n",
              "1           0.07864          0.0869              0.07017         0.1812   \n",
              "2           0.15990          0.1974              0.12790         0.2069   \n",
              "\n",
              "   mean fractal dimension  ...  worst radius  worst texture  worst perimeter  \\\n",
              "0                 0.07871  ...         25.38          17.33            184.6   \n",
              "1                 0.05667  ...         24.99          23.41            158.8   \n",
              "2                 0.05999  ...         23.57          25.53            152.5   \n",
              "\n",
              "   worst area  worst smoothness  worst compactness  worst concavity  \\\n",
              "0      2019.0            0.1622             0.6656           0.7119   \n",
              "1      1956.0            0.1238             0.1866           0.2416   \n",
              "2      1709.0            0.1444             0.4245           0.4504   \n",
              "\n",
              "   worst concave points  worst symmetry  worst fractal dimension  \n",
              "0                0.2654          0.4601                  0.11890  \n",
              "1                0.1860          0.2750                  0.08902  \n",
              "2                0.2430          0.3613                  0.08758  \n",
              "\n",
              "[3 rows x 30 columns]"
            ]
          },
          "execution_count": 5,
          "metadata": {},
          "output_type": "execute_result"
        }
      ],
      "source": [
        "data['data'].head(3)"
      ]
    },
    {
      "cell_type": "code",
      "execution_count": 6,
      "id": "26dd218d-46fe-4e82-b7ac-eceb40f2042d",
      "metadata": {
        "id": "26dd218d-46fe-4e82-b7ac-eceb40f2042d"
      },
      "outputs": [],
      "source": [
        "X = data['data']\n",
        "y = data['target']"
      ]
    },
    {
      "cell_type": "code",
      "execution_count": 7,
      "id": "c7bbcba0",
      "metadata": {},
      "outputs": [],
      "source": [
        "SEED = 777"
      ]
    },
    {
      "cell_type": "markdown",
      "id": "a81b5a30-1c29-43de-b8e1-9604c77da775",
      "metadata": {
        "id": "a81b5a30-1c29-43de-b8e1-9604c77da775"
      },
      "source": [
        "**Разбейте X и y на тренировочную и тестовую выборки**, как в лекции. Соотношение train/test поставьте равным 4:1.\\\n",
        "*Подсказка*: воспользуйтесь функцией `train_test_split`."
      ]
    },
    {
      "cell_type": "code",
      "execution_count": 8,
      "id": "eb40457f-b8b5-447d-8497-efe3b0671b71",
      "metadata": {
        "id": "eb40457f-b8b5-447d-8497-efe3b0671b71"
      },
      "outputs": [],
      "source": [
        "from sklearn.model_selection import train_test_split\n",
        "X_train, X_test, y_train, y_test = train_test_split(X, y, test_size=0.2, random_state=SEED)"
      ]
    },
    {
      "cell_type": "markdown",
      "id": "29b75ec0-447f-4b6c-bb9f-31fa67acf73f",
      "metadata": {
        "id": "29b75ec0-447f-4b6c-bb9f-31fa67acf73f"
      },
      "source": [
        "**Осуществите стандартизацию признаков в выборке**."
      ]
    },
    {
      "cell_type": "code",
      "execution_count": 9,
      "id": "0462e61c-0fba-442b-be4d-ed4eeefc30db",
      "metadata": {
        "id": "0462e61c-0fba-442b-be4d-ed4eeefc30db"
      },
      "outputs": [],
      "source": [
        "from sklearn.preprocessing import StandardScaler\n",
        "scaler = StandardScaler()\n",
        "X_train = scaler.fit_transform(X_train)\n",
        "X_test = scaler.transform(X_test)"
      ]
    },
    {
      "cell_type": "markdown",
      "id": "0c151708-47a0-4437-a0d9-596f9fe6d726",
      "metadata": {
        "id": "0c151708-47a0-4437-a0d9-596f9fe6d726"
      },
      "source": [
        "**Импортируйте модель классификации k-NN и обучите ее (`model.fit`)**.\\\n",
        "*Вопрос*: на какой части выборки происходит обучение: тренировочной или тестовой?"
      ]
    },
    {
      "cell_type": "code",
      "execution_count": 23,
      "id": "f56a89e5-4a31-4ccb-ba4f-c61a467b84a2",
      "metadata": {
        "id": "f56a89e5-4a31-4ccb-ba4f-c61a467b84a2"
      },
      "outputs": [
        {
          "data": {
            "text/html": [
              "<style>#sk-container-id-2 {color: black;background-color: white;}#sk-container-id-2 pre{padding: 0;}#sk-container-id-2 div.sk-toggleable {background-color: white;}#sk-container-id-2 label.sk-toggleable__label {cursor: pointer;display: block;width: 100%;margin-bottom: 0;padding: 0.3em;box-sizing: border-box;text-align: center;}#sk-container-id-2 label.sk-toggleable__label-arrow:before {content: \"▸\";float: left;margin-right: 0.25em;color: #696969;}#sk-container-id-2 label.sk-toggleable__label-arrow:hover:before {color: black;}#sk-container-id-2 div.sk-estimator:hover label.sk-toggleable__label-arrow:before {color: black;}#sk-container-id-2 div.sk-toggleable__content {max-height: 0;max-width: 0;overflow: hidden;text-align: left;background-color: #f0f8ff;}#sk-container-id-2 div.sk-toggleable__content pre {margin: 0.2em;color: black;border-radius: 0.25em;background-color: #f0f8ff;}#sk-container-id-2 input.sk-toggleable__control:checked~div.sk-toggleable__content {max-height: 200px;max-width: 100%;overflow: auto;}#sk-container-id-2 input.sk-toggleable__control:checked~label.sk-toggleable__label-arrow:before {content: \"▾\";}#sk-container-id-2 div.sk-estimator input.sk-toggleable__control:checked~label.sk-toggleable__label {background-color: #d4ebff;}#sk-container-id-2 div.sk-label input.sk-toggleable__control:checked~label.sk-toggleable__label {background-color: #d4ebff;}#sk-container-id-2 input.sk-hidden--visually {border: 0;clip: rect(1px 1px 1px 1px);clip: rect(1px, 1px, 1px, 1px);height: 1px;margin: -1px;overflow: hidden;padding: 0;position: absolute;width: 1px;}#sk-container-id-2 div.sk-estimator {font-family: monospace;background-color: #f0f8ff;border: 1px dotted black;border-radius: 0.25em;box-sizing: border-box;margin-bottom: 0.5em;}#sk-container-id-2 div.sk-estimator:hover {background-color: #d4ebff;}#sk-container-id-2 div.sk-parallel-item::after {content: \"\";width: 100%;border-bottom: 1px solid gray;flex-grow: 1;}#sk-container-id-2 div.sk-label:hover label.sk-toggleable__label {background-color: #d4ebff;}#sk-container-id-2 div.sk-serial::before {content: \"\";position: absolute;border-left: 1px solid gray;box-sizing: border-box;top: 0;bottom: 0;left: 50%;z-index: 0;}#sk-container-id-2 div.sk-serial {display: flex;flex-direction: column;align-items: center;background-color: white;padding-right: 0.2em;padding-left: 0.2em;position: relative;}#sk-container-id-2 div.sk-item {position: relative;z-index: 1;}#sk-container-id-2 div.sk-parallel {display: flex;align-items: stretch;justify-content: center;background-color: white;position: relative;}#sk-container-id-2 div.sk-item::before, #sk-container-id-2 div.sk-parallel-item::before {content: \"\";position: absolute;border-left: 1px solid gray;box-sizing: border-box;top: 0;bottom: 0;left: 50%;z-index: -1;}#sk-container-id-2 div.sk-parallel-item {display: flex;flex-direction: column;z-index: 1;position: relative;background-color: white;}#sk-container-id-2 div.sk-parallel-item:first-child::after {align-self: flex-end;width: 50%;}#sk-container-id-2 div.sk-parallel-item:last-child::after {align-self: flex-start;width: 50%;}#sk-container-id-2 div.sk-parallel-item:only-child::after {width: 0;}#sk-container-id-2 div.sk-dashed-wrapped {border: 1px dashed gray;margin: 0 0.4em 0.5em 0.4em;box-sizing: border-box;padding-bottom: 0.4em;background-color: white;}#sk-container-id-2 div.sk-label label {font-family: monospace;font-weight: bold;display: inline-block;line-height: 1.2em;}#sk-container-id-2 div.sk-label-container {text-align: center;}#sk-container-id-2 div.sk-container {/* jupyter's `normalize.less` sets `[hidden] { display: none; }` but bootstrap.min.css set `[hidden] { display: none !important; }` so we also need the `!important` here to be able to override the default hidden behavior on the sphinx rendered scikit-learn.org. See: https://github.com/scikit-learn/scikit-learn/issues/21755 */display: inline-block !important;position: relative;}#sk-container-id-2 div.sk-text-repr-fallback {display: none;}</style><div id=\"sk-container-id-2\" class=\"sk-top-container\"><div class=\"sk-text-repr-fallback\"><pre>KNeighborsClassifier()</pre><b>In a Jupyter environment, please rerun this cell to show the HTML representation or trust the notebook. <br />On GitHub, the HTML representation is unable to render, please try loading this page with nbviewer.org.</b></div><div class=\"sk-container\" hidden><div class=\"sk-item\"><div class=\"sk-estimator sk-toggleable\"><input class=\"sk-toggleable__control sk-hidden--visually\" id=\"sk-estimator-id-2\" type=\"checkbox\" checked><label for=\"sk-estimator-id-2\" class=\"sk-toggleable__label sk-toggleable__label-arrow\">KNeighborsClassifier</label><div class=\"sk-toggleable__content\"><pre>KNeighborsClassifier()</pre></div></div></div></div></div>"
            ],
            "text/plain": [
              "KNeighborsClassifier()"
            ]
          },
          "execution_count": 23,
          "metadata": {},
          "output_type": "execute_result"
        }
      ],
      "source": [
        "# knn classifier\n",
        "from sklearn.neighbors import KNeighborsClassifier\n",
        "knn = KNeighborsClassifier(n_neighbors=5)\n",
        "knn.fit(X_train, y_train)"
      ]
    },
    {
      "cell_type": "markdown",
      "id": "381dbe6d-1366-4ed4-b8f9-81379d7506a0",
      "metadata": {
        "id": "381dbe6d-1366-4ed4-b8f9-81379d7506a0"
      },
      "source": [
        "**Получите предсказание на оставшейся выборке**. Оцените его качество метриками бинарной классификации: precision, recall, F1-score."
      ]
    },
    {
      "cell_type": "code",
      "execution_count": 25,
      "id": "4a6dd01e-44ec-470c-8c69-63201384dfd8",
      "metadata": {
        "id": "4a6dd01e-44ec-470c-8c69-63201384dfd8"
      },
      "outputs": [
        {
          "name": "stdout",
          "output_type": "stream",
          "text": [
            "              precision    recall  f1-score   support\n",
            "\n",
            "           0       1.00      0.89      0.94        38\n",
            "           1       0.95      1.00      0.97        76\n",
            "\n",
            "    accuracy                           0.96       114\n",
            "   macro avg       0.97      0.95      0.96       114\n",
            "weighted avg       0.97      0.96      0.96       114\n",
            "\n"
          ]
        }
      ],
      "source": [
        "# predict\n",
        "y_pred = knn.predict(X_test)\n",
        "# evaluate: precision, recall, f1-score, support\n",
        "from sklearn.metrics import classification_report\n",
        "print(classification_report(y_test, y_pred))"
      ]
    },
    {
      "cell_type": "markdown",
      "id": "3a8da971-b518-4052-8261-f970870b3743",
      "metadata": {
        "id": "3a8da971-b518-4052-8261-f970870b3743"
      },
      "source": [
        "Следующая функция строит график зависимости качества на тестовой и тренировочной выборках от параметра модели.\\\n",
        "Измените помеченную строку в функции так, чтобы ее можно было использовать **для построения графика зависимости качества от количества соседей для модели k-NN**."
      ]
    },
    {
      "cell_type": "code",
      "execution_count": 26,
      "id": "c5f6c835-17e6-43cd-aa37-b1c4b6ad25dd",
      "metadata": {
        "id": "c5f6c835-17e6-43cd-aa37-b1c4b6ad25dd"
      },
      "outputs": [],
      "source": [
        "from sklearn.metrics import f1_score\n",
        "\n",
        "def make_qual_chart(X_train, X_test, y_train, y_test, metric=f1_score, limit=50):\n",
        "    train_quals = np.zeros(limit)\n",
        "    test_quals = np.zeros(limit)\n",
        "    param_range = np.arange(1, limit + 1)\n",
        "    \n",
        "    for ind, value in enumerate(param_range):\n",
        "        ### CHANGE THE NEXT LINE!\n",
        "        model = KNeighborsClassifier(n_neighbors=value)\n",
        "        # FIT\n",
        "        model.fit(X_train, y_train)\n",
        "        # PREDICT\n",
        "        y_train_pred = model.predict(X_train)\n",
        "        y_test_pred = model.predict(X_test)\n",
        "        # EVALUATE QUALITY\n",
        "        train_quals[ind] = metric(y_true=y_train, y_pred=y_train_pred)\n",
        "        test_quals[ind] = metric(y_true=y_test, y_pred=y_test_pred)\n",
        "    \n",
        "    \n",
        "    \n",
        "    # TRACING CHART\n",
        "    plt.figure(figsize=(10, 7))\n",
        "    plt.plot(param_range, train_quals, label=\"Train\")\n",
        "    plt.plot(param_range, test_quals, label=\"Test\")\n",
        "   \n",
        "    plt.legend()\n",
        "    plt.show()\n",
        "    return param_range, train_quals, test_quals"
      ]
    },
    {
      "cell_type": "code",
      "execution_count": 27,
      "id": "3589c57d-d338-41ab-98e8-8e9c12bcda50",
      "metadata": {
        "id": "3589c57d-d338-41ab-98e8-8e9c12bcda50"
      },
      "outputs": [
        {
          "data": {
            "image/png": "[encoded data removed]",
            "text/plain": [
              "<Figure size 1000x700 with 1 Axes>"
            ]
          },
          "metadata": {},
          "output_type": "display_data"
        },
        {
          "data": {
            "text/plain": [
              "(array([ 1,  2,  3,  4,  5,  6,  7,  8,  9, 10, 11, 12, 13, 14, 15, 16, 17,\n",
              "        18, 19, 20, 21, 22, 23, 24, 25, 26, 27, 28, 29, 30, 31, 32, 33, 34,\n",
              "        35, 36, 37, 38, 39, 40, 41, 42, 43, 44, 45, 46, 47, 48, 49, 50]),\n",
              " array([1.        , 0.98738739, 0.98233216, 0.98395722, 0.98059965,\n",
              "        0.98233216, 0.97887324, 0.97699115, 0.9754386 , 0.98059965,\n",
              "        0.98059965, 0.98059965, 0.98066784, 0.98239437, 0.97552448,\n",
              "        0.9754386 , 0.97382199, 0.97552448, 0.97391304, 0.97391304,\n",
              "        0.96551724, 0.96885813, 0.96551724, 0.96551724, 0.96385542,\n",
              "        0.96373057, 0.96206897, 0.96373057, 0.96385542, 0.96373057,\n",
              "        0.96385542, 0.96551724, 0.96551724, 0.96373057, 0.96206897,\n",
              "        0.96373057, 0.96373057, 0.96373057, 0.96373057, 0.96373057,\n",
              "        0.96206897, 0.96373057, 0.96385542, 0.96551724, 0.96385542,\n",
              "        0.96385542, 0.96385542, 0.96385542, 0.96219931, 0.96206897]),\n",
              " array([0.96103896, 0.94039735, 0.97435897, 0.97402597, 0.97435897,\n",
              "        0.96774194, 0.97435897, 0.98064516, 0.97435897, 0.98064516,\n",
              "        0.97435897, 0.97435897, 0.96815287, 0.96815287, 0.96815287,\n",
              "        0.97435897, 0.96815287, 0.97435897, 0.97435897, 0.97435897,\n",
              "        0.97435897, 0.97435897, 0.97435897, 0.97435897, 0.97435897,\n",
              "        0.97435897, 0.97435897, 0.97435897, 0.97435897, 0.97435897,\n",
              "        0.96815287, 0.96815287, 0.96815287, 0.96815287, 0.96202532,\n",
              "        0.95541401, 0.96202532, 0.96202532, 0.96202532, 0.95541401,\n",
              "        0.96202532, 0.96202532, 0.96202532, 0.96202532, 0.96202532,\n",
              "        0.96202532, 0.96202532, 0.96202532, 0.96202532, 0.96202532]))"
            ]
          },
          "execution_count": 27,
          "metadata": {},
          "output_type": "execute_result"
        }
      ],
      "source": [
        "make_qual_chart(X_train, X_test, y_train, y_test)"
      ]
    },
    {
      "cell_type": "markdown",
      "id": "770d6ecb-37be-4a13-89d0-0c969e634543",
      "metadata": {
        "id": "770d6ecb-37be-4a13-89d0-0c969e634543"
      },
      "source": [
        "Сделайте вывод о том, **какое число соседей является оптимальным для данной задачи**."
      ]
    },
    {
      "cell_type": "code",
      "execution_count": 28,
      "id": "752fd9b2-4a62-4bcf-a36b-96c0da837055",
      "metadata": {
        "id": "752fd9b2-4a62-4bcf-a36b-96c0da837055"
      },
      "outputs": [],
      "source": [
        "OPTIMAL_K = 10"
      ]
    },
    {
      "cell_type": "code",
      "execution_count": 29,
      "id": "0795fe2e-eef2-4c35-9777-a7220f4c83fe",
      "metadata": {
        "id": "0795fe2e-eef2-4c35-9777-a7220f4c83fe"
      },
      "outputs": [
        {
          "name": "stdout",
          "output_type": "stream",
          "text": [
            "              precision    recall  f1-score   support\n",
            "\n",
            "           0       1.00      0.92      0.96        38\n",
            "           1       0.96      1.00      0.98        76\n",
            "\n",
            "    accuracy                           0.97       114\n",
            "   macro avg       0.98      0.96      0.97       114\n",
            "weighted avg       0.97      0.97      0.97       114\n",
            "\n"
          ]
        }
      ],
      "source": [
        "knn = KNeighborsClassifier(n_neighbors=OPTIMAL_K)\n",
        "knn.fit(X_train, y_train)\n",
        "\n",
        "y_pred = knn.predict(X_test)\n",
        "print(classification_report(y_test, y_pred))"
      ]
    },
    {
      "cell_type": "markdown",
      "id": "e8482c12-6d88-4916-a847-6b5353fe55c1",
      "metadata": {
        "id": "e8482c12-6d88-4916-a847-6b5353fe55c1"
      },
      "source": [
        "### Задача 2: Классификация химических веществ"
      ]
    },
    {
      "cell_type": "code",
      "execution_count": 30,
      "id": "drP_zVMoVii4",
      "metadata": {
        "colab": {
          "base_uri": "https://localhost:8080/"
        },
        "id": "drP_zVMoVii4",
        "outputId": "5ad6178a-3bef-46f6-abdd-06ccf87a273e"
      },
      "outputs": [
        {
          "name": "stdout",
          "output_type": "stream",
          "text": [
            "--2022-09-30 16:17:27--  https://data.bioml.ru/htdocs/courses/bioml/classic_ml/supervised/knn/data/bace.csv\n",
            "Resolving data.bioml.ru (data.bioml.ru)... 178.62.218.34\n",
            "Connecting to data.bioml.ru (data.bioml.ru)|178.62.218.34|:443... connected.\n",
            "HTTP request sent, awaiting response... 200 OK\n",
            "Length: 3897767 (3.7M) [text/csv]\n",
            "Saving to: ‘bace.csv’\n",
            "\n",
            "bace.csv            100%[===================>]   3.72M  2.65MB/s    in 1.4s    \n",
            "\n",
            "2022-09-30 16:17:29 (2.65 MB/s) - ‘bace.csv’ saved [3897767/3897767]\n",
            "\n"
          ]
        }
      ],
      "source": [
        "!wget --no-check-certificate 'https://data.bioml.ru/htdocs/courses/bioml/classic_ml/supervised/knn/data/bace.csv' -O bace.csv"
      ]
    },
    {
      "cell_type": "markdown",
      "id": "c6e33fae-8f5c-4207-abe5-b27cf4d47436",
      "metadata": {
        "id": "c6e33fae-8f5c-4207-abe5-b27cf4d47436"
      },
      "source": [
        "Датасет [BACE](http://moleculenet.ai/datasets-1) загружен за вас, определены `X`, `y` и `smiles`."
      ]
    },
    {
      "cell_type": "code",
      "execution_count": 31,
      "id": "26b131ae-2a07-48f3-a24f-d406471a99b1",
      "metadata": {
        "id": "26b131ae-2a07-48f3-a24f-d406471a99b1"
      },
      "outputs": [
        {
          "data": {
            "text/html": [
              "<div>\n",
              "<style scoped>\n",
              "    .dataframe tbody tr th:only-of-type {\n",
              "        vertical-align: middle;\n",
              "    }\n",
              "\n",
              "    .dataframe tbody tr th {\n",
              "        vertical-align: top;\n",
              "    }\n",
              "\n",
              "    .dataframe thead th {\n",
              "        text-align: right;\n",
              "    }\n",
              "</style>\n",
              "<table border=\"1\" class=\"dataframe\">\n",
              "  <thead>\n",
              "    <tr style=\"text-align: right;\">\n",
              "      <th></th>\n",
              "      <th>mol</th>\n",
              "      <th>CID</th>\n",
              "      <th>Class</th>\n",
              "      <th>Model</th>\n",
              "      <th>pIC50</th>\n",
              "      <th>MW</th>\n",
              "      <th>AlogP</th>\n",
              "      <th>HBA</th>\n",
              "      <th>HBD</th>\n",
              "      <th>RB</th>\n",
              "      <th>...</th>\n",
              "      <th>PEOE6 (PEOE6)</th>\n",
              "      <th>PEOE7 (PEOE7)</th>\n",
              "      <th>PEOE8 (PEOE8)</th>\n",
              "      <th>PEOE9 (PEOE9)</th>\n",
              "      <th>PEOE10 (PEOE10)</th>\n",
              "      <th>PEOE11 (PEOE11)</th>\n",
              "      <th>PEOE12 (PEOE12)</th>\n",
              "      <th>PEOE13 (PEOE13)</th>\n",
              "      <th>PEOE14 (PEOE14)</th>\n",
              "      <th>canvasUID</th>\n",
              "    </tr>\n",
              "  </thead>\n",
              "  <tbody>\n",
              "    <tr>\n",
              "      <th>0</th>\n",
              "      <td>O1CC[C@@H](NC(=O)[C@@H](Cc2cc3cc(ccc3nc2N)-c2c...</td>\n",
              "      <td>BACE_1</td>\n",
              "      <td>1</td>\n",
              "      <td>Train</td>\n",
              "      <td>9.154901</td>\n",
              "      <td>431.56979</td>\n",
              "      <td>4.4014</td>\n",
              "      <td>3</td>\n",
              "      <td>2</td>\n",
              "      <td>5</td>\n",
              "      <td>...</td>\n",
              "      <td>53.205711</td>\n",
              "      <td>78.640335</td>\n",
              "      <td>226.85541</td>\n",
              "      <td>107.43491</td>\n",
              "      <td>37.133846</td>\n",
              "      <td>0.000000</td>\n",
              "      <td>7.980170</td>\n",
              "      <td>0.0</td>\n",
              "      <td>0.000000</td>\n",
              "      <td>1</td>\n",
              "    </tr>\n",
              "    <tr>\n",
              "      <th>1</th>\n",
              "      <td>Fc1cc(cc(F)c1)C[C@H](NC(=O)[C@@H](N1CC[C@](NC(...</td>\n",
              "      <td>BACE_2</td>\n",
              "      <td>1</td>\n",
              "      <td>Train</td>\n",
              "      <td>8.853872</td>\n",
              "      <td>657.81073</td>\n",
              "      <td>2.6412</td>\n",
              "      <td>5</td>\n",
              "      <td>4</td>\n",
              "      <td>16</td>\n",
              "      <td>...</td>\n",
              "      <td>73.817162</td>\n",
              "      <td>47.171600</td>\n",
              "      <td>365.67694</td>\n",
              "      <td>174.07675</td>\n",
              "      <td>34.923889</td>\n",
              "      <td>7.980170</td>\n",
              "      <td>24.148668</td>\n",
              "      <td>0.0</td>\n",
              "      <td>24.663788</td>\n",
              "      <td>2</td>\n",
              "    </tr>\n",
              "    <tr>\n",
              "      <th>2</th>\n",
              "      <td>S1(=O)(=O)N(c2cc(cc3c2n(cc3CC)CC1)C(=O)N[C@H](...</td>\n",
              "      <td>BACE_3</td>\n",
              "      <td>1</td>\n",
              "      <td>Train</td>\n",
              "      <td>8.698970</td>\n",
              "      <td>591.74091</td>\n",
              "      <td>2.5499</td>\n",
              "      <td>4</td>\n",
              "      <td>3</td>\n",
              "      <td>11</td>\n",
              "      <td>...</td>\n",
              "      <td>70.365707</td>\n",
              "      <td>47.941147</td>\n",
              "      <td>192.40652</td>\n",
              "      <td>255.75255</td>\n",
              "      <td>23.654478</td>\n",
              "      <td>0.230159</td>\n",
              "      <td>15.879790</td>\n",
              "      <td>0.0</td>\n",
              "      <td>24.663788</td>\n",
              "      <td>3</td>\n",
              "    </tr>\n",
              "  </tbody>\n",
              "</table>\n",
              "<p>3 rows × 595 columns</p>\n",
              "</div>"
            ],
            "text/plain": [
              "                                                 mol     CID  Class  Model  \\\n",
              "0  O1CC[C@@H](NC(=O)[C@@H](Cc2cc3cc(ccc3nc2N)-c2c...  BACE_1      1  Train   \n",
              "1  Fc1cc(cc(F)c1)C[C@H](NC(=O)[C@@H](N1CC[C@](NC(...  BACE_2      1  Train   \n",
              "2  S1(=O)(=O)N(c2cc(cc3c2n(cc3CC)CC1)C(=O)N[C@H](...  BACE_3      1  Train   \n",
              "\n",
              "      pIC50         MW   AlogP  HBA  HBD  RB  ...  PEOE6 (PEOE6)  \\\n",
              "0  9.154901  431.56979  4.4014    3    2   5  ...      53.205711   \n",
              "1  8.853872  657.81073  2.6412    5    4  16  ...      73.817162   \n",
              "2  8.698970  591.74091  2.5499    4    3  11  ...      70.365707   \n",
              "\n",
              "   PEOE7 (PEOE7)  PEOE8 (PEOE8)  PEOE9 (PEOE9)  PEOE10 (PEOE10)  \\\n",
              "0      78.640335      226.85541      107.43491        37.133846   \n",
              "1      47.171600      365.67694      174.07675        34.923889   \n",
              "2      47.941147      192.40652      255.75255        23.654478   \n",
              "\n",
              "   PEOE11 (PEOE11)  PEOE12 (PEOE12)  PEOE13 (PEOE13)  PEOE14 (PEOE14)  \\\n",
              "0         0.000000         7.980170              0.0         0.000000   \n",
              "1         7.980170        24.148668              0.0        24.663788   \n",
              "2         0.230159        15.879790              0.0        24.663788   \n",
              "\n",
              "   canvasUID  \n",
              "0          1  \n",
              "1          2  \n",
              "2          3  \n",
              "\n",
              "[3 rows x 595 columns]"
            ]
          },
          "execution_count": 31,
          "metadata": {},
          "output_type": "execute_result"
        }
      ],
      "source": [
        "bace = pd.read_csv(\"./bace.csv\", header=0)\n",
        "bace.head(3)"
      ]
    },
    {
      "cell_type": "code",
      "execution_count": 32,
      "id": "4d7630b3-92e2-4d1f-b305-30e211de181e",
      "metadata": {
        "id": "4d7630b3-92e2-4d1f-b305-30e211de181e"
      },
      "outputs": [],
      "source": [
        "X = bace.iloc[:,4:].values\n",
        "y = bace[\"Class\"].values\n",
        "smiles = bace[\"mol\"].values"
      ]
    },
    {
      "cell_type": "markdown",
      "id": "b82862fa-1ac5-4418-ba1f-8db8173ebd8b",
      "metadata": {
        "id": "b82862fa-1ac5-4418-ba1f-8db8173ebd8b"
      },
      "source": [
        "**Разбейте X и y на тренировочную и тестовую выборки**, как в лекции. Соотношение train/test поставьте равным 3:1.\\\n",
        "*Подсказка*: воспользуйтесь функцией `train_test_split`."
      ]
    },
    {
      "cell_type": "code",
      "execution_count": 59,
      "id": "3be4f823-3b68-4988-a597-bae25c8ddd73",
      "metadata": {
        "id": "3be4f823-3b68-4988-a597-bae25c8ddd73"
      },
      "outputs": [],
      "source": [
        "X_train, X_test, y_train, y_test = train_test_split(X, y, test_size=0.33, random_state=SEED)"
      ]
    },
    {
      "cell_type": "markdown",
      "id": "e8413973-d3b5-49f4-8234-c115fd15ad23",
      "metadata": {
        "id": "e8413973-d3b5-49f4-8234-c115fd15ad23"
      },
      "source": [
        "**Осуществите стандартизацию признаков в выборке**."
      ]
    },
    {
      "cell_type": "code",
      "execution_count": 60,
      "id": "7d2574c1-bc21-4dc6-b983-1303269b3bed",
      "metadata": {
        "id": "7d2574c1-bc21-4dc6-b983-1303269b3bed"
      },
      "outputs": [],
      "source": [
        "scaler = StandardScaler()\n",
        "X_train = scaler.fit_transform(X_train)\n",
        "X_test = scaler.transform(X_test)"
      ]
    },
    {
      "cell_type": "markdown",
      "id": "6c71dc81-9935-4493-b1a2-56fb5be672d0",
      "metadata": {
        "id": "6c71dc81-9935-4493-b1a2-56fb5be672d0"
      },
      "source": [
        "**Импортируйте модель k-NN и обучите ее на соответствующей части выборки (`model.fit`)**."
      ]
    },
    {
      "cell_type": "code",
      "execution_count": 61,
      "id": "f674454a-45e0-4427-960a-94c82e78d7d1",
      "metadata": {
        "id": "f674454a-45e0-4427-960a-94c82e78d7d1"
      },
      "outputs": [
        {
          "data": {
            "text/html": [
              "<style>#sk-container-id-5 {color: black;background-color: white;}#sk-container-id-5 pre{padding: 0;}#sk-container-id-5 div.sk-toggleable {background-color: white;}#sk-container-id-5 label.sk-toggleable__label {cursor: pointer;display: block;width: 100%;margin-bottom: 0;padding: 0.3em;box-sizing: border-box;text-align: center;}#sk-container-id-5 label.sk-toggleable__label-arrow:before {content: \"▸\";float: left;margin-right: 0.25em;color: #696969;}#sk-container-id-5 label.sk-toggleable__label-arrow:hover:before {color: black;}#sk-container-id-5 div.sk-estimator:hover label.sk-toggleable__label-arrow:before {color: black;}#sk-container-id-5 div.sk-toggleable__content {max-height: 0;max-width: 0;overflow: hidden;text-align: left;background-color: #f0f8ff;}#sk-container-id-5 div.sk-toggleable__content pre {margin: 0.2em;color: black;border-radius: 0.25em;background-color: #f0f8ff;}#sk-container-id-5 input.sk-toggleable__control:checked~div.sk-toggleable__content {max-height: 200px;max-width: 100%;overflow: auto;}#sk-container-id-5 input.sk-toggleable__control:checked~label.sk-toggleable__label-arrow:before {content: \"▾\";}#sk-container-id-5 div.sk-estimator input.sk-toggleable__control:checked~label.sk-toggleable__label {background-color: #d4ebff;}#sk-container-id-5 div.sk-label input.sk-toggleable__control:checked~label.sk-toggleable__label {background-color: #d4ebff;}#sk-container-id-5 input.sk-hidden--visually {border: 0;clip: rect(1px 1px 1px 1px);clip: rect(1px, 1px, 1px, 1px);height: 1px;margin: -1px;overflow: hidden;padding: 0;position: absolute;width: 1px;}#sk-container-id-5 div.sk-estimator {font-family: monospace;background-color: #f0f8ff;border: 1px dotted black;border-radius: 0.25em;box-sizing: border-box;margin-bottom: 0.5em;}#sk-container-id-5 div.sk-estimator:hover {background-color: #d4ebff;}#sk-container-id-5 div.sk-parallel-item::after {content: \"\";width: 100%;border-bottom: 1px solid gray;flex-grow: 1;}#sk-container-id-5 div.sk-label:hover label.sk-toggleable__label {background-color: #d4ebff;}#sk-container-id-5 div.sk-serial::before {content: \"\";position: absolute;border-left: 1px solid gray;box-sizing: border-box;top: 0;bottom: 0;left: 50%;z-index: 0;}#sk-container-id-5 div.sk-serial {display: flex;flex-direction: column;align-items: center;background-color: white;padding-right: 0.2em;padding-left: 0.2em;position: relative;}#sk-container-id-5 div.sk-item {position: relative;z-index: 1;}#sk-container-id-5 div.sk-parallel {display: flex;align-items: stretch;justify-content: center;background-color: white;position: relative;}#sk-container-id-5 div.sk-item::before, #sk-container-id-5 div.sk-parallel-item::before {content: \"\";position: absolute;border-left: 1px solid gray;box-sizing: border-box;top: 0;bottom: 0;left: 50%;z-index: -1;}#sk-container-id-5 div.sk-parallel-item {display: flex;flex-direction: column;z-index: 1;position: relative;background-color: white;}#sk-container-id-5 div.sk-parallel-item:first-child::after {align-self: flex-end;width: 50%;}#sk-container-id-5 div.sk-parallel-item:last-child::after {align-self: flex-start;width: 50%;}#sk-container-id-5 div.sk-parallel-item:only-child::after {width: 0;}#sk-container-id-5 div.sk-dashed-wrapped {border: 1px dashed gray;margin: 0 0.4em 0.5em 0.4em;box-sizing: border-box;padding-bottom: 0.4em;background-color: white;}#sk-container-id-5 div.sk-label label {font-family: monospace;font-weight: bold;display: inline-block;line-height: 1.2em;}#sk-container-id-5 div.sk-label-container {text-align: center;}#sk-container-id-5 div.sk-container {/* jupyter's `normalize.less` sets `[hidden] { display: none; }` but bootstrap.min.css set `[hidden] { display: none !important; }` so we also need the `!important` here to be able to override the default hidden behavior on the sphinx rendered scikit-learn.org. See: https://github.com/scikit-learn/scikit-learn/issues/21755 */display: inline-block !important;position: relative;}#sk-container-id-5 div.sk-text-repr-fallback {display: none;}</style><div id=\"sk-container-id-5\" class=\"sk-top-container\"><div class=\"sk-text-repr-fallback\"><pre>KNeighborsClassifier()</pre><b>In a Jupyter environment, please rerun this cell to show the HTML representation or trust the notebook. <br />On GitHub, the HTML representation is unable to render, please try loading this page with nbviewer.org.</b></div><div class=\"sk-container\" hidden><div class=\"sk-item\"><div class=\"sk-estimator sk-toggleable\"><input class=\"sk-toggleable__control sk-hidden--visually\" id=\"sk-estimator-id-5\" type=\"checkbox\" checked><label for=\"sk-estimator-id-5\" class=\"sk-toggleable__label sk-toggleable__label-arrow\">KNeighborsClassifier</label><div class=\"sk-toggleable__content\"><pre>KNeighborsClassifier()</pre></div></div></div></div></div>"
            ],
            "text/plain": [
              "KNeighborsClassifier()"
            ]
          },
          "execution_count": 61,
          "metadata": {},
          "output_type": "execute_result"
        }
      ],
      "source": [
        "# knn classifier\n",
        "knn = KNeighborsClassifier(n_neighbors=5)\n",
        "knn.fit(X_train, y_train)"
      ]
    },
    {
      "cell_type": "markdown",
      "id": "b12d7f89-ee99-47aa-b0ff-52e312a0938f",
      "metadata": {
        "id": "b12d7f89-ee99-47aa-b0ff-52e312a0938f"
      },
      "source": [
        "**Получите предсказание на оставшейся выборке**. Оцените его качество метриками из отчета о классификации (`classification_report`)."
      ]
    },
    {
      "cell_type": "code",
      "execution_count": 62,
      "id": "a4561cf9-15ca-4d45-903f-14b478ac8448",
      "metadata": {
        "id": "a4561cf9-15ca-4d45-903f-14b478ac8448"
      },
      "outputs": [
        {
          "name": "stdout",
          "output_type": "stream",
          "text": [
            "              precision    recall  f1-score   support\n",
            "\n",
            "           0       0.86      0.81      0.83       277\n",
            "           1       0.78      0.83      0.81       223\n",
            "\n",
            "    accuracy                           0.82       500\n",
            "   macro avg       0.82      0.82      0.82       500\n",
            "weighted avg       0.82      0.82      0.82       500\n",
            "\n"
          ]
        }
      ],
      "source": [
        "# predict\n",
        "y_pred = knn.predict(X_test)\n",
        "# evaluate: precision, recall, f1-score, support\n",
        "print(classification_report(y_test, y_pred))"
      ]
    },
    {
      "cell_type": "code",
      "execution_count": 63,
      "id": "ed15e6b2",
      "metadata": {},
      "outputs": [
        {
          "name": "stdout",
          "output_type": "stream",
          "text": [
            "0.8069414316702819\n"
          ]
        }
      ],
      "source": [
        "print(f1_score(y_test, y_pred))"
      ]
    },
    {
      "cell_type": "markdown",
      "id": "258f3c59-f419-4394-aa87-fa5c58a8c2d1",
      "metadata": {
        "id": "258f3c59-f419-4394-aa87-fa5c58a8c2d1"
      },
      "source": [
        "Функция `fingerprint_train_test_split`, приведенная ниже, осуществляет **разбиение train/test на основании молекулярных \"отпечатков\" (molecular fingerprints)**. Воспользуйтесь ей, чтобы получить **неслучайное разбиение на train/test** и повторите предыдущие шаги, чтобы оценить качество модели на таком случае."
      ]
    },
    {
      "cell_type": "code",
      "execution_count": 49,
      "id": "w03_Vi4MQLX_",
      "metadata": {
        "colab": {
          "base_uri": "https://localhost:8080/"
        },
        "id": "w03_Vi4MQLX_",
        "outputId": "3b9fcdcc-39d4-4644-ca4b-ced65eaf03e4"
      },
      "outputs": [
        {
          "name": "stdout",
          "output_type": "stream",
          "text": [
            "Requirement already satisfied: rdkit-pypi in /home/dreamtim/anaconda3/lib/python3.8/site-packages (2022.3.5)\n",
            "Requirement already satisfied: Pillow in /home/dreamtim/anaconda3/lib/python3.8/site-packages (from rdkit-pypi) (9.2.0)\n",
            "Requirement already satisfied: numpy in /home/dreamtim/anaconda3/lib/python3.8/site-packages (from rdkit-pypi) (1.22.3)\n"
          ]
        }
      ],
      "source": [
        "!pip install rdkit-pypi"
      ]
    },
    {
      "cell_type": "code",
      "execution_count": 50,
      "id": "9a29ae65-3c94-4bf3-8a17-204607b8dc57",
      "metadata": {
        "id": "9a29ae65-3c94-4bf3-8a17-204607b8dc57"
      },
      "outputs": [],
      "source": [
        "from rdkit import Chem\n",
        "from rdkit.Chem import AllChem\n",
        "from rdkit import DataStructs"
      ]
    },
    {
      "cell_type": "code",
      "execution_count": 51,
      "id": "7b6cb627-57fc-4bcb-971c-40a30e850f75",
      "metadata": {
        "id": "7b6cb627-57fc-4bcb-971c-40a30e850f75"
      },
      "outputs": [],
      "source": [
        "def _split_fingerprints(fps, size1, size2):\n",
        "    \"\"\"This is called by fingerprint_train_test_split to divide a list of fingerprints into\n",
        "    two groups.\n",
        "    \"\"\"\n",
        "    assert len(fps) == size1 + size2\n",
        "\n",
        "    # Begin by assigning the first molecule to the first group.\n",
        "\n",
        "    fp_in_group = [[fps[0]], []]\n",
        "    indices_in_group = ([0], [])\n",
        "    remaining_fp = fps[1:]\n",
        "    remaining_indices = list(range(1, len(fps)))\n",
        "    max_similarity_to_group = [\n",
        "        DataStructs.BulkTanimotoSimilarity(fps[0], remaining_fp),\n",
        "        [0] * len(remaining_fp)\n",
        "    ]\n",
        "    while len(remaining_fp) > 0:\n",
        "    # Decide which group to assign a molecule to.\n",
        "        group = 0 if len(fp_in_group[0]) / size1 <= len(\n",
        "            fp_in_group[1]) / size2 else 1\n",
        "\n",
        "        # Identify the unassigned molecule that is least similar to everything in\n",
        "        # the other group.\n",
        "\n",
        "        i = np.argmin(max_similarity_to_group[1 - group])\n",
        "\n",
        "        # Add it to the group.\n",
        "\n",
        "        fp = remaining_fp[i]\n",
        "        fp_in_group[group].append(fp)\n",
        "        indices_in_group[group].append(remaining_indices[i])\n",
        "\n",
        "        # Update the data on unassigned molecules.\n",
        "\n",
        "        similarity = DataStructs.BulkTanimotoSimilarity(fp, remaining_fp)\n",
        "        max_similarity_to_group[group] = np.delete(\n",
        "            np.maximum(similarity, max_similarity_to_group[group]), i)\n",
        "        max_similarity_to_group[1 - group] = np.delete(\n",
        "            max_similarity_to_group[1 - group], i)\n",
        "        del remaining_fp[i]\n",
        "        del remaining_indices[i]\n",
        "    return indices_in_group"
      ]
    },
    {
      "cell_type": "code",
      "execution_count": 52,
      "id": "cfe6c073-0fc4-4f23-8fab-8744f725db28",
      "metadata": {
        "id": "cfe6c073-0fc4-4f23-8fab-8744f725db28"
      },
      "outputs": [],
      "source": [
        "def fingerprint_train_test_split(X, y, smiles, test_size=0.1):\n",
        "    assert X.shape[0] == y.shape[0] == smiles.shape[0]\n",
        "    mols = [Chem.MolFromSmiles(s) for s in smiles]\n",
        "    fps = [AllChem.GetMorganFingerprintAsBitVect(x, 2, 1024) for x in mols]\n",
        "\n",
        "    # Split into two groups: training set and everything else.\n",
        "\n",
        "    test_size = int(test_size * len(y))\n",
        "    train_size = len(y) - test_size\n",
        "    train_inds, test_inds = _split_fingerprints(fps, train_size, test_size)\n",
        "    \n",
        "    X_train = X[train_inds,:]\n",
        "    X_test = X[test_inds,:]\n",
        "    y_train = y[train_inds]\n",
        "    y_test = y[test_inds]\n",
        "    \n",
        "    return X_train, X_test, y_train, y_test"
      ]
    },
    {
      "cell_type": "code",
      "execution_count": 53,
      "id": "bac99465-3e69-4eb6-a05e-2abfffe97fe1",
      "metadata": {
        "id": "bac99465-3e69-4eb6-a05e-2abfffe97fe1"
      },
      "outputs": [],
      "source": [
        "X_train, X_test, y_train, y_test = fingerprint_train_test_split(X, y, smiles, test_size=0.33)"
      ]
    },
    {
      "cell_type": "code",
      "execution_count": 54,
      "id": "fec9476e",
      "metadata": {},
      "outputs": [
        {
          "name": "stdout",
          "output_type": "stream",
          "text": [
            "              precision    recall  f1-score   support\n",
            "\n",
            "           0       0.51      0.51      0.51       257\n",
            "           1       0.48      0.49      0.49       242\n",
            "\n",
            "    accuracy                           0.50       499\n",
            "   macro avg       0.50      0.50      0.50       499\n",
            "weighted avg       0.50      0.50      0.50       499\n",
            "\n"
          ]
        }
      ],
      "source": [
        "# knn classifier\n",
        "knn = KNeighborsClassifier(n_neighbors=5)\n",
        "knn.fit(X_train, y_train)\n",
        "\n",
        "# predict\n",
        "y_pred = knn.predict(X_test)\n",
        "# evaluate: precision, recall, f1-score, support\n",
        "print(classification_report(y_test, y_pred))"
      ]
    },
    {
      "cell_type": "code",
      "execution_count": 55,
      "id": "9bec5cb7",
      "metadata": {},
      "outputs": [
        {
          "name": "stdout",
          "output_type": "stream",
          "text": [
            "0.48559670781893005\n"
          ]
        }
      ],
      "source": [
        "print(f1_score(y_test, y_pred))"
      ]
    },
    {
      "cell_type": "markdown",
      "id": "d1051f3a-d90a-4cfb-887c-97aad6b31158",
      "metadata": {
        "id": "d1051f3a-d90a-4cfb-887c-97aad6b31158"
      },
      "source": [
        "**Сделайте выводы**."
      ]
    },
    {
      "cell_type": "code",
      "execution_count": null,
      "id": "e26b8e9c-1824-406c-a423-d006bfdbc9e8",
      "metadata": {
        "id": "e26b8e9c-1824-406c-a423-d006bfdbc9e8"
      },
      "outputs": [],
      "source": []
    },
    {
      "cell_type": "markdown",
      "id": "8e230a47-c382-40eb-8512-57353a4a8df0",
      "metadata": {
        "id": "8e230a47-c382-40eb-8512-57353a4a8df0"
      },
      "source": [
        "---"
      ]
    },
    {
      "cell_type": "markdown",
      "id": "7DYRTE66Crw3",
      "metadata": {
        "id": "7DYRTE66Crw3"
      },
      "source": [
        "### Задача 3*: другие параметры k-NN"
      ]
    },
    {
      "cell_type": "markdown",
      "id": "KOFol-DsC2gg",
      "metadata": {
        "id": "KOFol-DsC2gg"
      },
      "source": [
        "У алгоритма k-NN есть и другие параметры, влияющие на результат его обучения. В частности, параметр `metric`, отвечающий за принцип вычисления расстояния между объектами.\n",
        "\n",
        "Множество возможных метрик, известных sklearn`у, преечислено <a href=\"https://scikit-learn.org/stable/modules/generated/sklearn.metrics.pairwise.distance_metrics.html#sklearn.metrics.pairwise.distance_metrics\">здесь</a>."
      ]
    },
    {
      "cell_type": "markdown",
      "id": "Nl6bk0oLEtno",
      "metadata": {
        "id": "Nl6bk0oLEtno"
      },
      "source": [
        "**Задача**: адаптируйте пример с лунами из лекции. Проверьте, влияет ли выбор метрики расстояния в этом примере на результат классификации:\n",
        "* зафиксируйте число соседей, которое кажется вам наиболее подходящим\n",
        "* выберите 4 метрики, например, `cosine`, `l1`, `l2` и значение по умолчанию\n",
        "* проверьте, есть ли разница в получившейся разметке для выбранных метрик"
      ]
    },
    {
      "cell_type": "code",
      "execution_count": null,
      "id": "EGMX-GGFC2mw",
      "metadata": {
        "id": "EGMX-GGFC2mw"
      },
      "outputs": [],
      "source": [
        "f, axes = plt.subplots(2, 2, figsize=(12, 12))\n",
        "n_samples = 100\n",
        "points, labels = make_moons(noise=0.3, random_state=371, n_samples=n_samples)\n",
        "# дополните код ниже:\n",
        "# замените `???` на что-то разумное\n",
        "for n_nei, ax in zip(???, axes.flat):\n",
        "    classifier = KNeighborsClassifier(???)\n",
        "    classifier.fit(points, labels)\n",
        "\n",
        "    x_min, x_max = points[:, 0].min() - 1, points[:, 0].max() + 1\n",
        "    y_min, y_max = points[:, 1].min() - 1, points[:, 1].max() + 1\n",
        "    xx, yy = np.meshgrid(np.arange(x_min, x_max, h),\n",
        "                         np.arange(y_min, y_max, h))\n",
        "    Z = classifier.predict(np.c_[xx.ravel(), yy.ravel()])\n",
        "    Z = Z.reshape(xx.shape)\n",
        "    ax.pcolormesh(xx, yy, Z, cmap=cmap_light)\n",
        "\n",
        "    # Plot also the training points\n",
        "    ax.scatter(points[:, 0], points[:, 1], c=labels, cmap=cmap_bold,\n",
        "                edgecolor='k', s=20)\n",
        "    ax.set_xlim(xx.min(), xx.max())\n",
        "    ax.set_ylim(yy.min(), yy.max())\n",
        "    ax.set_title(f\"??? = {???}\")"
      ]
    }
  ],
  "metadata": {
    "colab": {
      "collapsed_sections": [],
      "provenance": [],
      "toc_visible": true
    },
    "kernelspec": {
      "display_name": "Python 3.8.13 ('base')",
      "language": "python",
      "name": "python3"
    },
    "language_info": {
      "codemirror_mode": {
        "name": "ipython",
        "version": 3
      },
      "file_extension": ".py",
      "mimetype": "text/x-python",
      "name": "python",
      "nbconvert_exporter": "python",
      "pygments_lexer": "ipython3",
      "version": "3.8.13"
    },
    "vscode": {
      "interpreter": {
        "hash": "57818da3ee1fd01d36d722dc5d70d8ee0174abb1fbd688f676d98834109492dc"
      }
    }
  },
  "nbformat": 4,
  "nbformat_minor": 5
}
